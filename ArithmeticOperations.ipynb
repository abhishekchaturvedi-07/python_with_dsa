{
 "cells": [
  {
   "cell_type": "code",
   "execution_count": 11,
   "id": "e282b734-9d43-48a7-b3d1-edfcc16646d2",
   "metadata": {},
   "outputs": [
    {
     "name": "stdout",
     "output_type": "stream",
     "text": [
      "add -  10\n",
      "subtraction -  4\n",
      "multiply -  21\n",
      "divide -  2.3333333333333335\n",
      "floorDivision -  2\n",
      "module -  1\n",
      "toThePower -  343\n"
     ]
    }
   ],
   "source": [
    "a = 7\n",
    "b = 3\n",
    "add = a + b\n",
    "subtraction = a - b\n",
    "multiply = a * b\n",
    "divide = a/b\n",
    "floorDivision = a // b\n",
    "module = a % b\n",
    "toThePower = a ** b\n",
    "print('add - ', add)\n",
    "print('subtraction - ', subtraction)\n",
    "print('multiply - ', multiply)\n",
    "print('divide - ', divide)\n",
    "print('floorDivision - ', floorDivision)\n",
    "print('module - ', module)\n",
    "print('toThePower - ', toThePower)"
   ]
  },
  {
   "cell_type": "code",
   "execution_count": 5,
   "id": "9ca2656c-8acf-4f9a-a058-7d6570ce58bf",
   "metadata": {},
   "outputs": [
    {
     "name": "stdout",
     "output_type": "stream",
     "text": [
      "Hello AC\n"
     ]
    }
   ],
   "source": [
    "a = \"Hello\"\n",
    "b = \"AC\"\n",
    "c = a + \" \" + b\n",
    "print(c)"
   ]
  },
  {
   "cell_type": "code",
   "execution_count": null,
   "id": "6267ba99-26ce-43a1-9be2-d580422909c3",
   "metadata": {},
   "outputs": [],
   "source": [
    " "
   ]
  },
  {
   "cell_type": "code",
   "execution_count": null,
   "id": "e39dc7ce-c337-4829-a669-651b9995000a",
   "metadata": {},
   "outputs": [],
   "source": []
  }
 ],
 "metadata": {
  "kernelspec": {
   "display_name": "Python 3 (ipykernel)",
   "language": "python",
   "name": "python3"
  },
  "language_info": {
   "codemirror_mode": {
    "name": "ipython",
    "version": 3
   },
   "file_extension": ".py",
   "mimetype": "text/x-python",
   "name": "python",
   "nbconvert_exporter": "python",
   "pygments_lexer": "ipython3",
   "version": "3.11.7"
  }
 },
 "nbformat": 4,
 "nbformat_minor": 5
}
