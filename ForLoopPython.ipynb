{
 "cells": [
  {
   "cell_type": "code",
   "execution_count": 1,
   "id": "742d317b-9d5f-4ecd-a88a-99c4004decb2",
   "metadata": {},
   "outputs": [
    {
     "name": "stdout",
     "output_type": "stream",
     "text": [
      "iPhone\n",
      "Samsung\n",
      "RealME\n",
      "MI\n",
      "OnePlus\n"
     ]
    }
   ],
   "source": [
    "phones = ['iPhone', 'Samsung', 'RealME', 'MI', 'OnePlus']\n",
    "\n",
    "for x in phones:\n",
    "    print(x)"
   ]
  },
  {
   "cell_type": "code",
   "execution_count": 9,
   "id": "0bf6158d-1728-49e7-9eb7-2c610cc0a141",
   "metadata": {},
   "outputs": [
    {
     "name": "stdout",
     "output_type": "stream",
     "text": [
      "before finding -  iPhone\n",
      "before finding -  Samsung\n",
      "before finding -  RealME\n",
      "before finding -  MI\n",
      "after finding -  MI\n",
      "after break -  iPhone\n",
      "after break -  Samsung\n",
      "after break -  RealME\n"
     ]
    }
   ],
   "source": [
    "# break\n",
    "\n",
    "for x in phones:\n",
    "    print('before finding - ', x)\n",
    "    if x == \"MI\":\n",
    "        break\n",
    "\n",
    "for x in phones:\n",
    "    if x == \"MI\":\n",
    "        print('after finding - ', x)\n",
    "        break\n",
    "\n",
    "for x in phones:\n",
    "    if x == \"MI\":\n",
    "        break\n",
    "    print('after break - ', x)"
   ]
  },
  {
   "cell_type": "code",
   "execution_count": 10,
   "id": "e0cd7ab6-8381-4548-9ccc-8cf5f07c9a80",
   "metadata": {},
   "outputs": [
    {
     "name": "stdout",
     "output_type": "stream",
     "text": [
      "iPhone\n",
      "RealME\n",
      "MI\n",
      "OnePlus\n"
     ]
    }
   ],
   "source": [
    "# continue\n",
    "\n",
    "for x in phones:\n",
    "    \n",
    "    if x == \"Samsung\":\n",
    "        continue\n",
    "    print(x)"
   ]
  },
  {
   "cell_type": "markdown",
   "id": "1a52c871-1e40-44c0-9651-8d9ba9189577",
   "metadata": {},
   "source": [
    "### Ranges"
   ]
  },
  {
   "cell_type": "code",
   "execution_count": 11,
   "id": "83b0f3c0-d228-453a-b255-518cf54d7f21",
   "metadata": {},
   "outputs": [
    {
     "name": "stdout",
     "output_type": "stream",
     "text": [
      "0\n",
      "1\n",
      "2\n",
      "3\n",
      "4\n",
      "5\n"
     ]
    }
   ],
   "source": [
    "for x in range(6):\n",
    "    print(x)\n"
   ]
  },
  {
   "cell_type": "code",
   "execution_count": 12,
   "id": "fbd9c327-36fa-4fca-8a0e-16c1828dbbbd",
   "metadata": {},
   "outputs": [
    {
     "name": "stdout",
     "output_type": "stream",
     "text": [
      "2\n",
      "3\n",
      "4\n",
      "5\n"
     ]
    }
   ],
   "source": [
    "for x in range(2,6):\n",
    "    print(x)"
   ]
  },
  {
   "cell_type": "code",
   "execution_count": 13,
   "id": "89dc78ef-0486-48ae-966b-6cdb638b7db0",
   "metadata": {},
   "outputs": [
    {
     "name": "stdout",
     "output_type": "stream",
     "text": [
      "2\n",
      "5\n",
      "8\n",
      "11\n",
      "14\n",
      "17\n",
      "20\n",
      "23\n",
      "26\n",
      "29\n"
     ]
    }
   ],
   "source": [
    "for x in range(2,30,3):\n",
    "    print(x)"
   ]
  },
  {
   "cell_type": "markdown",
   "id": "a36c2c60-83c5-4cb5-92e9-faff463f34e9",
   "metadata": {},
   "source": [
    "## LIST COMREHENSION`"
   ]
  },
  {
   "cell_type": "code",
   "execution_count": 14,
   "id": "e1333abd-1d63-40ee-a73b-2832ccc01e6c",
   "metadata": {},
   "outputs": [
    {
     "name": "stdout",
     "output_type": "stream",
     "text": [
      "temperature in F -  [32.0, 50.0, 89.6, 53.6]\n"
     ]
    }
   ],
   "source": [
    "temp = [0,10,32,12]\n",
    "\n",
    "# create new list with some logics \n",
    "\n",
    "tempInF = [(9/5)*t + 32 for t in temp]\n",
    "print('temperature in F - ',tempInF)"
   ]
  },
  {
   "cell_type": "code",
   "execution_count": null,
   "id": "63856862-7551-4843-b151-9f5c27b60960",
   "metadata": {},
   "outputs": [],
   "source": []
  }
 ],
 "metadata": {
  "kernelspec": {
   "display_name": "Python 3 (ipykernel)",
   "language": "python",
   "name": "python3"
  },
  "language_info": {
   "codemirror_mode": {
    "name": "ipython",
    "version": 3
   },
   "file_extension": ".py",
   "mimetype": "text/x-python",
   "name": "python",
   "nbconvert_exporter": "python",
   "pygments_lexer": "ipython3",
   "version": "3.11.7"
  }
 },
 "nbformat": 4,
 "nbformat_minor": 5
}
