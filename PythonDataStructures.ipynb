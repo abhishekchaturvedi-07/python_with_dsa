{
 "cells": [
  {
   "cell_type": "code",
   "execution_count": 6,
   "id": "b9bcf039-1db1-4f1f-8f4a-0ef20f9769f0",
   "metadata": {},
   "outputs": [
    {
     "name": "stdout",
     "output_type": "stream",
     "text": [
      "List -  [1, 2, 3, 4, 5, 6, 7]\n"
     ]
    },
    {
     "data": {
      "text/plain": [
       "list"
      ]
     },
     "execution_count": 6,
     "metadata": {},
     "output_type": "execute_result"
    }
   ],
   "source": [
    "#List - Mutable\n",
    "list = [1,2,3,4,5,6,7]\n",
    "print('List - ',list)\n",
    "type(list)\n"
   ]
  },
  {
   "cell_type": "code",
   "execution_count": 7,
   "id": "65b029f2-aa6a-4952-9b61-a346bc267466",
   "metadata": {},
   "outputs": [
    {
     "name": "stdout",
     "output_type": "stream",
     "text": [
      "tuple -  (1, 2, 3, 4)\n"
     ]
    },
    {
     "data": {
      "text/plain": [
       "tuple"
      ]
     },
     "execution_count": 7,
     "metadata": {},
     "output_type": "execute_result"
    }
   ],
   "source": [
    "#Tuple - Immutable\n",
    "tupl = (1,2,3,4)\n",
    "print('tuple - ',tupl)\n",
    "type(tupl)"
   ]
  },
  {
   "cell_type": "code",
   "execution_count": 9,
   "id": "203d30a9-705a-43e8-adfe-18739e6a369c",
   "metadata": {},
   "outputs": [
    {
     "name": "stdout",
     "output_type": "stream",
     "text": [
      "setValues - {1, 2, 3, 4, 5, 6, 7}\n"
     ]
    },
    {
     "data": {
      "text/plain": [
       "set"
      ]
     },
     "execution_count": 9,
     "metadata": {},
     "output_type": "execute_result"
    }
   ],
   "source": [
    "#Set - Unque set of values\n",
    "setValue = {1,2,3,4,5,6,7,7,7,7,7,7,5}\n",
    "print('setValues -', setValue)\n",
    "type(setValue)"
   ]
  },
  {
   "cell_type": "code",
   "execution_count": 11,
   "id": "1414f3ab-25bb-4061-998c-bacb3fdfaba2",
   "metadata": {},
   "outputs": [
    {
     "name": "stdout",
     "output_type": "stream",
     "text": [
      "dictionary -  {'name': ['Abhishek', 'Chaturvedi'], 'cars': ['city', 'hector']}\n"
     ]
    },
    {
     "data": {
      "text/plain": [
       "dict"
      ]
     },
     "execution_count": 11,
     "metadata": {},
     "output_type": "execute_result"
    }
   ],
   "source": [
    "#Dictionary - Object - Key Value Pairs\n",
    "dictionary = { 'name': ['Abhishek', 'Chaturvedi'], 'cars': ['city','hector'] }\n",
    "print('dictionary - ', dictionary)\n",
    "type(dictionary)"
   ]
  },
  {
   "cell_type": "code",
   "execution_count": null,
   "id": "e0c8811c-4978-4980-9c69-c2184ca306ee",
   "metadata": {},
   "outputs": [],
   "source": []
  }
 ],
 "metadata": {
  "kernelspec": {
   "display_name": "Python 3 (ipykernel)",
   "language": "python",
   "name": "python3"
  },
  "language_info": {
   "codemirror_mode": {
    "name": "ipython",
    "version": 3
   },
   "file_extension": ".py",
   "mimetype": "text/x-python",
   "name": "python",
   "nbconvert_exporter": "python",
   "pygments_lexer": "ipython3",
   "version": "3.11.7"
  }
 },
 "nbformat": 4,
 "nbformat_minor": 5
}
