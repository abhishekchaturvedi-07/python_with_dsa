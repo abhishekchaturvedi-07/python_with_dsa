{
 "cells": [
  {
   "cell_type": "code",
   "execution_count": 46,
   "id": "e8742d2f-2db5-4e17-9887-9a4ecba00e49",
   "metadata": {},
   "outputs": [
    {
     "name": "stdout",
     "output_type": "stream",
     "text": [
      "Rocky  loves to play  football\n",
      "Get all games -  ['cricket', 'football', 'boxing']\n"
     ]
    }
   ],
   "source": [
    "# Define dictionary\n",
    "\n",
    "# Empty Dict\n",
    "my_dict= {}\n",
    "type(my_dict)\n",
    "\n",
    "# Dict with integers\n",
    "my_dict = {1: 'Abhishek', 2: 'Rocky'}\n",
    "my_dict\n",
    "\n",
    "# Dict with mixed keys\n",
    "my_dict = {'name': 'Abhishek', 2: [1,2,3]}\n",
    "my_dict\n",
    "\n",
    "# Dict with dict()\n",
    "my_dict = dict({1: 'Abhishek', 2: 'Rocky'})\n",
    "my_dict\n",
    "\n",
    "# Dict from sequence having each item as pair\n",
    "my_dict = dict([(1,['apple','mango']), (2,'ball')])\n",
    "my_dict\n",
    "\n",
    "#Assign Values to dictionary\n",
    "my_dict = {1: ['Abhishek', 'Rocky'] , 'games': ['cricket', 'football','boxing']}\n",
    "#my_dict['name']\n",
    "print(my_dict[1][1], ' loves to play ', my_dict['games'][1])\n",
    "\n",
    "# Get Command to get all the values inside key\n",
    "print('Get all games - ',my_dict.get('games'))"
   ]
  },
  {
   "cell_type": "code",
   "execution_count": 75,
   "id": "10a00b85-df51-4be5-9b53-095f06213766",
   "metadata": {},
   "outputs": [
    {
     "name": "stdout",
     "output_type": "stream",
     "text": [
      "Updated Dict -  {1: ['Abhishek', 'Rocky'], 'games': ['cricket', 'football', 'boxing'], 'tv_games': ['ps2', 'ps4'], 'newValue': None}\n",
      "Updated one -  {1: ['Abhishek', 'Rocky'], 'games': ['cricket', 'football', 'boxing'], 'tv_games': ['ps2', 'ps4'], 'newValue': None}\n",
      "After Insertion -  {1: ['Abhishek', 'Rocky'], 'games': ['cricket', 'football', 'boxing'], 'tv_games': ['ps2', 'ps4'], 'newValue': ['abc', 'xyz']}\n"
     ]
    }
   ],
   "source": [
    "#Adding new item in dict\n",
    "\n",
    "# Approach 1 : Directly place the values\n",
    "my_dict['tv_games']=['ps2', 'ps4']\n",
    "print('Updated Dict - ',my_dict)\n",
    "\n",
    "# Approach 2 : setDefault with None\n",
    "my_dict.setdefault('newValue')\n",
    "print('Updated one - ',my_dict)\n",
    "\n",
    "my_dict['newValue'] = ['abc', 'xyz']\n",
    "print('After Insertion - ',my_dict)"
   ]
  },
  {
   "cell_type": "code",
   "execution_count": 60,
   "id": "e9d2e787-880f-407f-a62b-1ff2886b7867",
   "metadata": {},
   "outputs": [
    {
     "ename": "NameError",
     "evalue": "name 'my_dict' is not defined",
     "output_type": "error",
     "traceback": [
      "\u001b[0;31m---------------------------------------------------------------------------\u001b[0m",
      "\u001b[0;31mNameError\u001b[0m                                 Traceback (most recent call last)",
      "Cell \u001b[0;32mIn[60], line 19\u001b[0m\n\u001b[1;32m     17\u001b[0m \u001b[38;5;66;03m# del dict\u001b[39;00m\n\u001b[1;32m     18\u001b[0m \u001b[38;5;28;01mdel\u001b[39;00m my_dict\n\u001b[0;32m---> 19\u001b[0m my_dict\n",
      "\u001b[0;31mNameError\u001b[0m: name 'my_dict' is not defined"
     ]
    }
   ],
   "source": [
    "# Removing items from Dict\n",
    "\n",
    "my_dict = {1: ['Abhishek', 'Rocky'] , 'games': ['cricket', 'football','boxing']}\n",
    "\n",
    "# remove particular item\n",
    "#my_dict.pop(1)\n",
    "my_dict\n",
    "\n",
    "# remove last item\n",
    "#my_dict.popitem()\n",
    "my_dict\n",
    "\n",
    "# remove all items\n",
    "#my_dict.clear()\n",
    "my_dict\n",
    "\n",
    "# del dict\n",
    "del my_dict\n",
    "my_dict"
   ]
  },
  {
   "cell_type": "code",
   "execution_count": 66,
   "id": "b0c69c98-5eea-4745-a369-7ed056bc95be",
   "metadata": {},
   "outputs": [
    {
     "name": "stdout",
     "output_type": "stream",
     "text": [
      "{1: 'Abhi', 2: 'Shek', 3: 'Chatur', 4: 'Vedi'}\n"
     ]
    }
   ],
   "source": [
    "# Update Values inside dict\n",
    "a = {1: 'Abhi', 2: 'Abhishek'}\n",
    "a1 = {2: 'Shek', 3:'Chaturvedi', 4: 'Vedi'}\n",
    "\n",
    "a.update(a1)\n",
    "a2 = {3: 'Chatur'}\n",
    "a.update(a2)\n",
    "print(a)"
   ]
  },
  {
   "cell_type": "code",
   "execution_count": 71,
   "id": "86ab10ef-1bba-4291-b585-a68ee6f45418",
   "metadata": {},
   "outputs": [
    {
     "name": "stdout",
     "output_type": "stream",
     "text": [
      "dict_values([['Abhishek', 'Rocky'], ['cricket', 'football', 'boxing']])\n",
      "dict_keys([1, 'games'])\n",
      "dict_items([(1, ['Abhishek', 'Rocky']), ('games', ['cricket', 'football', 'boxing'])])\n"
     ]
    }
   ],
   "source": [
    "# Printing Values\n",
    "\n",
    "my_dict = {1: ['Abhishek', 'Rocky'] , 'games': ['cricket', 'football','boxing']}\n",
    "\n",
    "# All values\n",
    "print(my_dict.values())\n",
    "\n",
    "# All Keys\n",
    "print(my_dict.keys())\n",
    "\n",
    "# All Items\n",
    "print(my_dict.items())\n"
   ]
  },
  {
   "cell_type": "code",
   "execution_count": null,
   "id": "3ae380dc-15c6-4bf9-8aba-ce04204fe240",
   "metadata": {},
   "outputs": [],
   "source": []
  }
 ],
 "metadata": {
  "kernelspec": {
   "display_name": "Python 3 (ipykernel)",
   "language": "python",
   "name": "python3"
  },
  "language_info": {
   "codemirror_mode": {
    "name": "ipython",
    "version": 3
   },
   "file_extension": ".py",
   "mimetype": "text/x-python",
   "name": "python",
   "nbconvert_exporter": "python",
   "pygments_lexer": "ipython3",
   "version": "3.11.7"
  }
 },
 "nbformat": 4,
 "nbformat_minor": 5
}
