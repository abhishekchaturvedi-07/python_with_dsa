{
 "cells": [
  {
   "cell_type": "markdown",
   "id": "352eef60-df69-45c3-bd83-71feffbee595",
   "metadata": {},
   "source": [
    "### Equaltiy - copy data with equal sign"
   ]
  },
  {
   "cell_type": "code",
   "execution_count": 7,
   "id": "118a8d47-4c2c-411b-9288-4bec21a65e88",
   "metadata": {},
   "outputs": [
    {
     "data": {
      "text/plain": [
       "[1, 2, 3, 4, 5]"
      ]
     },
     "execution_count": 7,
     "metadata": {},
     "output_type": "execute_result"
    }
   ],
   "source": [
    "list1 = [1,2,3,4,5]\n",
    "list2 = list1\n",
    "list2"
   ]
  },
  {
   "cell_type": "code",
   "execution_count": 2,
   "id": "bae22f72-dcf1-4a2e-a9d6-6c1e28099fda",
   "metadata": {},
   "outputs": [
    {
     "name": "stdout",
     "output_type": "stream",
     "text": [
      "list 2 modified -  [1, 2, 7, 4, 5]\n",
      "list 1 modified -  [1, 2, 7, 4, 5]\n"
     ]
    }
   ],
   "source": [
    "# Trying to modify list 2 and check the list 1 values\n",
    "\n",
    "list2[2] = 7\n",
    "print('list 2 modified - ', list2)\n",
    "print('list 1 modified - ', list1)"
   ]
  },
  {
   "cell_type": "code",
   "execution_count": 5,
   "id": "80065ff5-6410-4493-8330-1ad4b6e41f49",
   "metadata": {},
   "outputs": [
    {
     "data": {
      "text/plain": [
       "4392948096"
      ]
     },
     "execution_count": 5,
     "metadata": {},
     "output_type": "execute_result"
    }
   ],
   "source": [
    "# List 1 also modified because both are pointing to the same memory location and the id is same\n",
    "id(list1)"
   ]
  },
  {
   "cell_type": "code",
   "execution_count": 6,
   "id": "55a7571a-7f68-4124-845e-212f12d935dc",
   "metadata": {},
   "outputs": [
    {
     "data": {
      "text/plain": [
       "4392948096"
      ]
     },
     "execution_count": 6,
     "metadata": {},
     "output_type": "execute_result"
    }
   ],
   "source": [
    "id(list2)"
   ]
  },
  {
   "cell_type": "markdown",
   "id": "742d3d89-8bfb-4f0d-87b8-a196e2b75e10",
   "metadata": {},
   "source": [
    "### Lets do with Copy() and do the shallow copy"
   ]
  },
  {
   "cell_type": "code",
   "execution_count": 9,
   "id": "dd3cddf6-e4dc-4e06-8238-8120d328e596",
   "metadata": {},
   "outputs": [
    {
     "name": "stdout",
     "output_type": "stream",
     "text": [
      "list4-  [6, 7, 8, 9]\n",
      "list 4 modified -  [6, 7, 3, 9]\n",
      "list 3 modified -  [6, 7, 8, 9]\n"
     ]
    }
   ],
   "source": [
    "list3 = [6,7,8,9]\n",
    "list4 = list3.copy()\n",
    "print('list4- ', list4)\n",
    "list4[2]=3\n",
    "print('list 4 modified - ', list4)\n",
    "print('list 3 modified - ', list3)"
   ]
  },
  {
   "cell_type": "code",
   "execution_count": 10,
   "id": "d4335ec7-eccb-4319-9d7a-2ae77c17b8b2",
   "metadata": {},
   "outputs": [
    {
     "data": {
      "text/plain": [
       "4407730112"
      ]
     },
     "execution_count": 10,
     "metadata": {},
     "output_type": "execute_result"
    }
   ],
   "source": [
    "# Copy() will create another id\n",
    "id(list3)"
   ]
  },
  {
   "cell_type": "code",
   "execution_count": 11,
   "id": "3f883d6e-a66f-4a5b-8a6f-2c33b1db3bff",
   "metadata": {},
   "outputs": [
    {
     "data": {
      "text/plain": [
       "4407727808"
      ]
     },
     "execution_count": 11,
     "metadata": {},
     "output_type": "execute_result"
    }
   ],
   "source": [
    "id(list4)"
   ]
  },
  {
   "cell_type": "markdown",
   "id": "11251129-4b77-495b-a76e-4d1f93114ca5",
   "metadata": {},
   "source": [
    "### BUT, with Nested list it will work differently because when the data will increase it will increase the new memory space and not create the new id"
   ]
  },
  {
   "cell_type": "code",
   "execution_count": 25,
   "id": "6de99412-07c5-4024-bf90-a6ad4c6e5078",
   "metadata": {},
   "outputs": [
    {
     "data": {
      "text/plain": [
       "[[1, 2, 3, 4], [5, 6, 7, 8]]"
      ]
     },
     "execution_count": 25,
     "metadata": {},
     "output_type": "execute_result"
    }
   ],
   "source": [
    "list5 = [[1,2,3,4],[5,6,7,8]]\n",
    "list6 = list5\n",
    "list6"
   ]
  },
  {
   "cell_type": "code",
   "execution_count": 13,
   "id": "c5987fd8-113a-49fd-b5e2-88259e5ef175",
   "metadata": {},
   "outputs": [
    {
     "name": "stdout",
     "output_type": "stream",
     "text": [
      "list 6 modified -  [[1, 2, 3, 4], [5, 7, 7, 8]]\n",
      "list 5 modified -  [[1, 2, 3, 4], [5, 7, 7, 8]]\n"
     ]
    }
   ],
   "source": [
    "list6[1][1]=7\n",
    "print('list 6 modified - ', list6)\n",
    "print('list 5 modified - ', list5)"
   ]
  },
  {
   "cell_type": "code",
   "execution_count": 19,
   "id": "eb3ca662-b70c-49a5-ba66-dc3a7b7e4597",
   "metadata": {},
   "outputs": [
    {
     "name": "stdout",
     "output_type": "stream",
     "text": [
      "list7 -  [[1, 2, 3, 4], [5, 6, 7, 9]]\n",
      "list 7 modified -  [[1, 2, 3, 4], [5, 6, 7, 9]]\n",
      "list 5 modified -  [[1, 2, 3, 4], [5, 6, 7, 9]]\n"
     ]
    }
   ],
   "source": [
    "# with copy\n",
    "list7 = list5.copy()\n",
    "print('list7 - ',list7)\n",
    "list7[1][3] = 9\n",
    "print('list 7 modified - ', list7)\n",
    "print('list 5 modified - ', list5)"
   ]
  },
  {
   "cell_type": "code",
   "execution_count": 24,
   "id": "4204c656-9d7e-4deb-9e1d-35d843d833f9",
   "metadata": {},
   "outputs": [],
   "source": [
    "# to not to impact in the performance of Python, even on nested list copy will not create another id. As the data is increasing it wants to go with the same id value.\n",
    "#See, with both the approaches list is affecting as it is just increasing the space internally but not creating the new id "
   ]
  },
  {
   "cell_type": "markdown",
   "id": "828583da-9f0f-47a9-ac46-ef97aded0c77",
   "metadata": {},
   "source": [
    "### DEEP COPY - for the nested list operations"
   ]
  },
  {
   "cell_type": "code",
   "execution_count": 26,
   "id": "9f9026f2-946b-4e94-b674-30a476e8cc4e",
   "metadata": {},
   "outputs": [
    {
     "name": "stdout",
     "output_type": "stream",
     "text": [
      "list8 -  [[1, 2, 3, 4], [5, 6, 7, 8]]\n"
     ]
    }
   ],
   "source": [
    "from copy import deepcopy\n",
    "list8 = deepcopy(list5)\n",
    "print('list8 - ',list8)"
   ]
  },
  {
   "cell_type": "code",
   "execution_count": 28,
   "id": "f583d363-c3d3-46fd-9b23-332fdb5df45e",
   "metadata": {},
   "outputs": [
    {
     "name": "stdout",
     "output_type": "stream",
     "text": [
      "list 8 modified -  [[1, 7, 3, 4], [5, 6, 7, 8]]\n",
      "list 5 modified -  [[1, 2, 3, 4], [5, 6, 7, 8]]\n"
     ]
    }
   ],
   "source": [
    "list8[0][1]=7\n",
    "print('list 8 modified - ', list8)\n",
    "print('list 5 modified - ', list5)"
   ]
  },
  {
   "cell_type": "code",
   "execution_count": null,
   "id": "5e32e735-9110-42c0-9804-0e5a7ce33ad2",
   "metadata": {},
   "outputs": [],
   "source": []
  }
 ],
 "metadata": {
  "kernelspec": {
   "display_name": "Python 3 (ipykernel)",
   "language": "python",
   "name": "python3"
  },
  "language_info": {
   "codemirror_mode": {
    "name": "ipython",
    "version": 3
   },
   "file_extension": ".py",
   "mimetype": "text/x-python",
   "name": "python",
   "nbconvert_exporter": "python",
   "pygments_lexer": "ipython3",
   "version": "3.11.7"
  }
 },
 "nbformat": 4,
 "nbformat_minor": 5
}
