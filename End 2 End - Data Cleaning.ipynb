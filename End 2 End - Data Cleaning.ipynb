{
 "cells": [
  {
   "cell_type": "code",
   "execution_count": 2,
   "id": "d10913e1-c527-4b6e-883c-838d512de1a2",
   "metadata": {},
   "outputs": [],
   "source": [
    "import pandas as pd\n",
    "import numpy as np"
   ]
  },
  {
   "cell_type": "code",
   "execution_count": 69,
   "id": "4b4e2068-1d77-4b1c-a092-61c81764e22f",
   "metadata": {},
   "outputs": [
    {
     "data": {
      "text/html": [
       "<div>\n",
       "<style scoped>\n",
       "    .dataframe tbody tr th:only-of-type {\n",
       "        vertical-align: middle;\n",
       "    }\n",
       "\n",
       "    .dataframe tbody tr th {\n",
       "        vertical-align: top;\n",
       "    }\n",
       "\n",
       "    .dataframe thead th {\n",
       "        text-align: right;\n",
       "    }\n",
       "</style>\n",
       "<table border=\"1\" class=\"dataframe\">\n",
       "  <thead>\n",
       "    <tr style=\"text-align: right;\">\n",
       "      <th></th>\n",
       "      <th>RollNo</th>\n",
       "      <th>Name</th>\n",
       "      <th>Age</th>\n",
       "      <th>Salary</th>\n",
       "    </tr>\n",
       "  </thead>\n",
       "  <tbody>\n",
       "    <tr>\n",
       "      <th>0</th>\n",
       "      <td>1</td>\n",
       "      <td>ABC1</td>\n",
       "      <td>25</td>\n",
       "      <td>1000</td>\n",
       "    </tr>\n",
       "    <tr>\n",
       "      <th>1</th>\n",
       "      <td>2</td>\n",
       "      <td>ABC2</td>\n",
       "      <td>26</td>\n",
       "      <td>1001</td>\n",
       "    </tr>\n",
       "    <tr>\n",
       "      <th>2</th>\n",
       "      <td>3</td>\n",
       "      <td>ABC3</td>\n",
       "      <td>27</td>\n",
       "      <td>1002</td>\n",
       "    </tr>\n",
       "    <tr>\n",
       "      <th>3</th>\n",
       "      <td>4</td>\n",
       "      <td>ABC4</td>\n",
       "      <td>28</td>\n",
       "      <td>1003</td>\n",
       "    </tr>\n",
       "    <tr>\n",
       "      <th>4</th>\n",
       "      <td>5</td>\n",
       "      <td>ABC5</td>\n",
       "      <td>29</td>\n",
       "      <td>1004</td>\n",
       "    </tr>\n",
       "    <tr>\n",
       "      <th>5</th>\n",
       "      <td>6</td>\n",
       "      <td>ABC6</td>\n",
       "      <td>30</td>\n",
       "      <td>1005</td>\n",
       "    </tr>\n",
       "    <tr>\n",
       "      <th>6</th>\n",
       "      <td>7</td>\n",
       "      <td>ABC7</td>\n",
       "      <td>31</td>\n",
       "      <td>1006</td>\n",
       "    </tr>\n",
       "    <tr>\n",
       "      <th>7</th>\n",
       "      <td>8</td>\n",
       "      <td>ABC8</td>\n",
       "      <td>32</td>\n",
       "      <td>1007</td>\n",
       "    </tr>\n",
       "    <tr>\n",
       "      <th>8</th>\n",
       "      <td>9</td>\n",
       "      <td>ABC9</td>\n",
       "      <td>33</td>\n",
       "      <td>1008</td>\n",
       "    </tr>\n",
       "    <tr>\n",
       "      <th>9</th>\n",
       "      <td>10</td>\n",
       "      <td>ABC10</td>\n",
       "      <td>34</td>\n",
       "      <td>1009</td>\n",
       "    </tr>\n",
       "    <tr>\n",
       "      <th>10</th>\n",
       "      <td>10</td>\n",
       "      <td>ABC10</td>\n",
       "      <td>34</td>\n",
       "      <td>1009</td>\n",
       "    </tr>\n",
       "    <tr>\n",
       "      <th>11</th>\n",
       "      <td>11</td>\n",
       "      <td>ABC11</td>\n",
       "      <td>?</td>\n",
       "      <td>12121</td>\n",
       "    </tr>\n",
       "  </tbody>\n",
       "</table>\n",
       "</div>"
      ],
      "text/plain": [
       "    RollNo   Name Age  Salary\n",
       "0        1   ABC1  25    1000\n",
       "1        2   ABC2  26    1001\n",
       "2        3   ABC3  27    1002\n",
       "3        4   ABC4  28    1003\n",
       "4        5   ABC5  29    1004\n",
       "5        6   ABC6  30    1005\n",
       "6        7   ABC7  31    1006\n",
       "7        8   ABC8  32    1007\n",
       "8        9   ABC9  33    1008\n",
       "9       10  ABC10  34    1009\n",
       "10      10  ABC10  34    1009\n",
       "11      11  ABC11   ?   12121"
      ]
     },
     "metadata": {},
     "output_type": "display_data"
    }
   ],
   "source": [
    "employeeTracker = pd.read_excel('/Users/abhisheksnehachaturvedi/Downloads/python-excel-test.xlsx')\n",
    "display(employeeTracker)"
   ]
  },
  {
   "cell_type": "code",
   "execution_count": 70,
   "id": "ff83dc93-1d19-4178-9186-874e27e4a72f",
   "metadata": {},
   "outputs": [
    {
     "name": "stdout",
     "output_type": "stream",
     "text": [
      "<class 'pandas.core.frame.DataFrame'>\n",
      "RangeIndex: 12 entries, 0 to 11\n",
      "Data columns (total 4 columns):\n",
      " #   Column  Non-Null Count  Dtype \n",
      "---  ------  --------------  ----- \n",
      " 0   RollNo  12 non-null     int64 \n",
      " 1   Name    12 non-null     object\n",
      " 2   Age     12 non-null     object\n",
      " 3   Salary  12 non-null     int64 \n",
      "dtypes: int64(2), object(2)\n",
      "memory usage: 516.0+ bytes\n"
     ]
    }
   ],
   "source": [
    "employeeTracker.info()"
   ]
  },
  {
   "cell_type": "code",
   "execution_count": 71,
   "id": "8492e180-3449-4683-b5f6-3a98a589d646",
   "metadata": {},
   "outputs": [
    {
     "data": {
      "text/plain": [
       "Age\n",
       "34    2\n",
       "25    1\n",
       "26    1\n",
       "27    1\n",
       "28    1\n",
       "29    1\n",
       "30    1\n",
       "31    1\n",
       "32    1\n",
       "33    1\n",
       "?     1\n",
       "Name: count, dtype: int64"
      ]
     },
     "execution_count": 71,
     "metadata": {},
     "output_type": "execute_result"
    }
   ],
   "source": [
    "employeeTracker['Age'].value_counts()"
   ]
  },
  {
   "cell_type": "code",
   "execution_count": 72,
   "id": "5368a5b8-c419-46c9-9bbd-6a71de53a360",
   "metadata": {},
   "outputs": [
    {
     "data": {
      "text/html": [
       "<div>\n",
       "<style scoped>\n",
       "    .dataframe tbody tr th:only-of-type {\n",
       "        vertical-align: middle;\n",
       "    }\n",
       "\n",
       "    .dataframe tbody tr th {\n",
       "        vertical-align: top;\n",
       "    }\n",
       "\n",
       "    .dataframe thead th {\n",
       "        text-align: right;\n",
       "    }\n",
       "</style>\n",
       "<table border=\"1\" class=\"dataframe\">\n",
       "  <thead>\n",
       "    <tr style=\"text-align: right;\">\n",
       "      <th></th>\n",
       "      <th>RollNo</th>\n",
       "      <th>Name</th>\n",
       "      <th>Age</th>\n",
       "      <th>Salary</th>\n",
       "    </tr>\n",
       "  </thead>\n",
       "  <tbody>\n",
       "    <tr>\n",
       "      <th>0</th>\n",
       "      <td>1</td>\n",
       "      <td>ABC1</td>\n",
       "      <td>25.0</td>\n",
       "      <td>1000</td>\n",
       "    </tr>\n",
       "    <tr>\n",
       "      <th>1</th>\n",
       "      <td>2</td>\n",
       "      <td>ABC2</td>\n",
       "      <td>26.0</td>\n",
       "      <td>1001</td>\n",
       "    </tr>\n",
       "    <tr>\n",
       "      <th>2</th>\n",
       "      <td>3</td>\n",
       "      <td>ABC3</td>\n",
       "      <td>27.0</td>\n",
       "      <td>1002</td>\n",
       "    </tr>\n",
       "    <tr>\n",
       "      <th>3</th>\n",
       "      <td>4</td>\n",
       "      <td>ABC4</td>\n",
       "      <td>28.0</td>\n",
       "      <td>1003</td>\n",
       "    </tr>\n",
       "    <tr>\n",
       "      <th>4</th>\n",
       "      <td>5</td>\n",
       "      <td>ABC5</td>\n",
       "      <td>29.0</td>\n",
       "      <td>1004</td>\n",
       "    </tr>\n",
       "    <tr>\n",
       "      <th>5</th>\n",
       "      <td>6</td>\n",
       "      <td>ABC6</td>\n",
       "      <td>30.0</td>\n",
       "      <td>1005</td>\n",
       "    </tr>\n",
       "    <tr>\n",
       "      <th>6</th>\n",
       "      <td>7</td>\n",
       "      <td>ABC7</td>\n",
       "      <td>31.0</td>\n",
       "      <td>1006</td>\n",
       "    </tr>\n",
       "    <tr>\n",
       "      <th>7</th>\n",
       "      <td>8</td>\n",
       "      <td>ABC8</td>\n",
       "      <td>32.0</td>\n",
       "      <td>1007</td>\n",
       "    </tr>\n",
       "    <tr>\n",
       "      <th>8</th>\n",
       "      <td>9</td>\n",
       "      <td>ABC9</td>\n",
       "      <td>33.0</td>\n",
       "      <td>1008</td>\n",
       "    </tr>\n",
       "    <tr>\n",
       "      <th>9</th>\n",
       "      <td>10</td>\n",
       "      <td>ABC10</td>\n",
       "      <td>34.0</td>\n",
       "      <td>1009</td>\n",
       "    </tr>\n",
       "    <tr>\n",
       "      <th>10</th>\n",
       "      <td>10</td>\n",
       "      <td>ABC10</td>\n",
       "      <td>34.0</td>\n",
       "      <td>1009</td>\n",
       "    </tr>\n",
       "    <tr>\n",
       "      <th>11</th>\n",
       "      <td>11</td>\n",
       "      <td>ABC11</td>\n",
       "      <td>NaN</td>\n",
       "      <td>12121</td>\n",
       "    </tr>\n",
       "  </tbody>\n",
       "</table>\n",
       "</div>"
      ],
      "text/plain": [
       "    RollNo   Name   Age  Salary\n",
       "0        1   ABC1  25.0    1000\n",
       "1        2   ABC2  26.0    1001\n",
       "2        3   ABC3  27.0    1002\n",
       "3        4   ABC4  28.0    1003\n",
       "4        5   ABC5  29.0    1004\n",
       "5        6   ABC6  30.0    1005\n",
       "6        7   ABC7  31.0    1006\n",
       "7        8   ABC8  32.0    1007\n",
       "8        9   ABC9  33.0    1008\n",
       "9       10  ABC10  34.0    1009\n",
       "10      10  ABC10  34.0    1009\n",
       "11      11  ABC11   NaN   12121"
      ]
     },
     "execution_count": 72,
     "metadata": {},
     "output_type": "execute_result"
    }
   ],
   "source": [
    "employeeTracker = employeeTracker.replace('?', np.nan)\n",
    "employeeTracker"
   ]
  },
  {
   "cell_type": "code",
   "execution_count": 73,
   "id": "f7e8e992-ab74-40c3-bd4a-2eb1855389f6",
   "metadata": {},
   "outputs": [
    {
     "name": "stdout",
     "output_type": "stream",
     "text": [
      "<class 'pandas.core.frame.DataFrame'>\n",
      "RangeIndex: 12 entries, 0 to 11\n",
      "Data columns (total 4 columns):\n",
      " #   Column  Non-Null Count  Dtype  \n",
      "---  ------  --------------  -----  \n",
      " 0   RollNo  12 non-null     int64  \n",
      " 1   Name    12 non-null     object \n",
      " 2   Age     11 non-null     float64\n",
      " 3   Salary  12 non-null     int64  \n",
      "dtypes: float64(1), int64(2), object(1)\n",
      "memory usage: 516.0+ bytes\n"
     ]
    }
   ],
   "source": [
    "employeeTracker.info()"
   ]
  },
  {
   "cell_type": "code",
   "execution_count": 74,
   "id": "2a4642ce-cacc-4305-94f8-c71a066f94de",
   "metadata": {},
   "outputs": [
    {
     "data": {
      "text/plain": [
       "RollNo    0\n",
       "Name      0\n",
       "Age       1\n",
       "Salary    0\n",
       "dtype: int64"
      ]
     },
     "execution_count": 74,
     "metadata": {},
     "output_type": "execute_result"
    }
   ],
   "source": [
    "employeeTracker.isnull().sum()"
   ]
  },
  {
   "cell_type": "code",
   "execution_count": 30,
   "id": "2434f91c-4d00-4250-b2a5-69feabceb4c9",
   "metadata": {},
   "outputs": [
    {
     "data": {
      "text/plain": [
       "(11, 4)"
      ]
     },
     "execution_count": 30,
     "metadata": {},
     "output_type": "execute_result"
    }
   ],
   "source": [
    "employeeTracker1 = employeeTracker.dropna()\n",
    "employeeTracker1.shape"
   ]
  },
  {
   "cell_type": "code",
   "execution_count": 91,
   "id": "b1f2f234-7e3e-4cd1-8160-ee32e18705bd",
   "metadata": {},
   "outputs": [
    {
     "data": {
      "text/plain": [
       "RollNo  Name   Age   Salary\n",
       "10      ABC10  34.0  1009      2\n",
       "1       ABC1   25.0  1000      1\n",
       "2       ABC2   26.0  1001      1\n",
       "3       ABC3   27.0  1002      1\n",
       "4       ABC4   28.0  1003      1\n",
       "5       ABC5   29.0  1004      1\n",
       "6       ABC6   30.0  1005      1\n",
       "7       ABC7   31.0  1006      1\n",
       "8       ABC8   32.0  1007      1\n",
       "9       ABC9   33.0  1008      1\n",
       "11      ABC11  5     12121     1\n",
       "Name: count, dtype: int64"
      ]
     },
     "execution_count": 91,
     "metadata": {},
     "output_type": "execute_result"
    }
   ],
   "source": [
    "employeeTracker2 = employeeTracker.fillna('5')\n",
    "employeeTracker2.value_counts()"
   ]
  },
  {
   "cell_type": "code",
   "execution_count": 76,
   "id": "a58735bb-f297-45aa-864d-c1d5c7f1bd6f",
   "metadata": {},
   "outputs": [
    {
     "name": "stdout",
     "output_type": "stream",
     "text": [
      "<class 'pandas.core.frame.DataFrame'>\n",
      "RangeIndex: 12 entries, 0 to 11\n",
      "Data columns (total 4 columns):\n",
      " #   Column  Non-Null Count  Dtype \n",
      "---  ------  --------------  ----- \n",
      " 0   RollNo  12 non-null     int64 \n",
      " 1   Name    12 non-null     object\n",
      " 2   Age     12 non-null     object\n",
      " 3   Salary  12 non-null     int64 \n",
      "dtypes: int64(2), object(2)\n",
      "memory usage: 516.0+ bytes\n"
     ]
    }
   ],
   "source": [
    "employeeTracker2.info()"
   ]
  },
  {
   "cell_type": "code",
   "execution_count": 84,
   "id": "c566bf4b-9240-49c0-bb30-e95078591c1e",
   "metadata": {},
   "outputs": [
    {
     "data": {
      "text/html": [
       "<div>\n",
       "<style scoped>\n",
       "    .dataframe tbody tr th:only-of-type {\n",
       "        vertical-align: middle;\n",
       "    }\n",
       "\n",
       "    .dataframe tbody tr th {\n",
       "        vertical-align: top;\n",
       "    }\n",
       "\n",
       "    .dataframe thead th {\n",
       "        text-align: right;\n",
       "    }\n",
       "</style>\n",
       "<table border=\"1\" class=\"dataframe\">\n",
       "  <thead>\n",
       "    <tr style=\"text-align: right;\">\n",
       "      <th></th>\n",
       "      <th>RollNo</th>\n",
       "      <th>Name</th>\n",
       "      <th>Age</th>\n",
       "      <th>Salary</th>\n",
       "    </tr>\n",
       "  </thead>\n",
       "  <tbody>\n",
       "    <tr>\n",
       "      <th>0</th>\n",
       "      <td>1</td>\n",
       "      <td>ABC1</td>\n",
       "      <td>25.0</td>\n",
       "      <td>1000</td>\n",
       "    </tr>\n",
       "    <tr>\n",
       "      <th>1</th>\n",
       "      <td>2</td>\n",
       "      <td>ABC2</td>\n",
       "      <td>26.0</td>\n",
       "      <td>1001</td>\n",
       "    </tr>\n",
       "    <tr>\n",
       "      <th>2</th>\n",
       "      <td>3</td>\n",
       "      <td>ABC3</td>\n",
       "      <td>27.0</td>\n",
       "      <td>1002</td>\n",
       "    </tr>\n",
       "    <tr>\n",
       "      <th>3</th>\n",
       "      <td>4</td>\n",
       "      <td>ABC4</td>\n",
       "      <td>28.0</td>\n",
       "      <td>1003</td>\n",
       "    </tr>\n",
       "    <tr>\n",
       "      <th>4</th>\n",
       "      <td>5</td>\n",
       "      <td>ABC5</td>\n",
       "      <td>29.0</td>\n",
       "      <td>1004</td>\n",
       "    </tr>\n",
       "    <tr>\n",
       "      <th>5</th>\n",
       "      <td>6</td>\n",
       "      <td>ABC6</td>\n",
       "      <td>30.0</td>\n",
       "      <td>1005</td>\n",
       "    </tr>\n",
       "    <tr>\n",
       "      <th>6</th>\n",
       "      <td>7</td>\n",
       "      <td>ABC7</td>\n",
       "      <td>31.0</td>\n",
       "      <td>1006</td>\n",
       "    </tr>\n",
       "    <tr>\n",
       "      <th>7</th>\n",
       "      <td>8</td>\n",
       "      <td>ABC8</td>\n",
       "      <td>32.0</td>\n",
       "      <td>1007</td>\n",
       "    </tr>\n",
       "    <tr>\n",
       "      <th>8</th>\n",
       "      <td>9</td>\n",
       "      <td>ABC9</td>\n",
       "      <td>33.0</td>\n",
       "      <td>1008</td>\n",
       "    </tr>\n",
       "    <tr>\n",
       "      <th>9</th>\n",
       "      <td>10</td>\n",
       "      <td>ABC10</td>\n",
       "      <td>34.0</td>\n",
       "      <td>1009</td>\n",
       "    </tr>\n",
       "    <tr>\n",
       "      <th>10</th>\n",
       "      <td>10</td>\n",
       "      <td>ABC10</td>\n",
       "      <td>34.0</td>\n",
       "      <td>1009</td>\n",
       "    </tr>\n",
       "    <tr>\n",
       "      <th>11</th>\n",
       "      <td>11</td>\n",
       "      <td>ABC11</td>\n",
       "      <td>NaN</td>\n",
       "      <td>12121</td>\n",
       "    </tr>\n",
       "  </tbody>\n",
       "</table>\n",
       "</div>"
      ],
      "text/plain": [
       "    RollNo   Name   Age  Salary\n",
       "0        1   ABC1  25.0    1000\n",
       "1        2   ABC2  26.0    1001\n",
       "2        3   ABC3  27.0    1002\n",
       "3        4   ABC4  28.0    1003\n",
       "4        5   ABC5  29.0    1004\n",
       "5        6   ABC6  30.0    1005\n",
       "6        7   ABC7  31.0    1006\n",
       "7        8   ABC8  32.0    1007\n",
       "8        9   ABC9  33.0    1008\n",
       "9       10  ABC10  34.0    1009\n",
       "10      10  ABC10  34.0    1009\n",
       "11      11  ABC11   NaN   12121"
      ]
     },
     "execution_count": 84,
     "metadata": {},
     "output_type": "execute_result"
    }
   ],
   "source": [
    "employeeTracker2 = employeeTracker2.replace('5', np.nan)\n",
    "employeeTracker2"
   ]
  },
  {
   "cell_type": "code",
   "execution_count": 92,
   "id": "1c2a7fa2-43c7-4c67-a636-f485d4d900bc",
   "metadata": {},
   "outputs": [
    {
     "name": "stdout",
     "output_type": "stream",
     "text": [
      "<class 'pandas.core.frame.DataFrame'>\n",
      "RangeIndex: 12 entries, 0 to 11\n",
      "Data columns (total 4 columns):\n",
      " #   Column  Non-Null Count  Dtype \n",
      "---  ------  --------------  ----- \n",
      " 0   RollNo  12 non-null     int64 \n",
      " 1   Name    12 non-null     object\n",
      " 2   Age     12 non-null     object\n",
      " 3   Salary  12 non-null     int64 \n",
      "dtypes: int64(2), object(2)\n",
      "memory usage: 516.0+ bytes\n"
     ]
    }
   ],
   "source": [
    "employeeTracker2.info()"
   ]
  },
  {
   "cell_type": "code",
   "execution_count": 93,
   "id": "4ff7c66c-45ef-4208-8022-d2cbe53e1c2b",
   "metadata": {},
   "outputs": [
    {
     "data": {
      "text/html": [
       "<div>\n",
       "<style scoped>\n",
       "    .dataframe tbody tr th:only-of-type {\n",
       "        vertical-align: middle;\n",
       "    }\n",
       "\n",
       "    .dataframe tbody tr th {\n",
       "        vertical-align: top;\n",
       "    }\n",
       "\n",
       "    .dataframe thead th {\n",
       "        text-align: right;\n",
       "    }\n",
       "</style>\n",
       "<table border=\"1\" class=\"dataframe\">\n",
       "  <thead>\n",
       "    <tr style=\"text-align: right;\">\n",
       "      <th></th>\n",
       "      <th>RollNo</th>\n",
       "      <th>Name</th>\n",
       "      <th>Age</th>\n",
       "      <th>Salary</th>\n",
       "    </tr>\n",
       "  </thead>\n",
       "  <tbody>\n",
       "    <tr>\n",
       "      <th>0</th>\n",
       "      <td>1</td>\n",
       "      <td>ABC1</td>\n",
       "      <td>25.0</td>\n",
       "      <td>1000</td>\n",
       "    </tr>\n",
       "    <tr>\n",
       "      <th>1</th>\n",
       "      <td>2</td>\n",
       "      <td>ABC2</td>\n",
       "      <td>26.0</td>\n",
       "      <td>1001</td>\n",
       "    </tr>\n",
       "    <tr>\n",
       "      <th>2</th>\n",
       "      <td>3</td>\n",
       "      <td>ABC3</td>\n",
       "      <td>27.0</td>\n",
       "      <td>1002</td>\n",
       "    </tr>\n",
       "    <tr>\n",
       "      <th>3</th>\n",
       "      <td>4</td>\n",
       "      <td>ABC4</td>\n",
       "      <td>28.0</td>\n",
       "      <td>1003</td>\n",
       "    </tr>\n",
       "    <tr>\n",
       "      <th>4</th>\n",
       "      <td>5</td>\n",
       "      <td>ABC5</td>\n",
       "      <td>29.0</td>\n",
       "      <td>1004</td>\n",
       "    </tr>\n",
       "    <tr>\n",
       "      <th>5</th>\n",
       "      <td>6</td>\n",
       "      <td>ABC6</td>\n",
       "      <td>30.0</td>\n",
       "      <td>1005</td>\n",
       "    </tr>\n",
       "    <tr>\n",
       "      <th>6</th>\n",
       "      <td>7</td>\n",
       "      <td>ABC7</td>\n",
       "      <td>31.0</td>\n",
       "      <td>1006</td>\n",
       "    </tr>\n",
       "    <tr>\n",
       "      <th>7</th>\n",
       "      <td>8</td>\n",
       "      <td>ABC8</td>\n",
       "      <td>32.0</td>\n",
       "      <td>1007</td>\n",
       "    </tr>\n",
       "    <tr>\n",
       "      <th>8</th>\n",
       "      <td>9</td>\n",
       "      <td>ABC9</td>\n",
       "      <td>33.0</td>\n",
       "      <td>1008</td>\n",
       "    </tr>\n",
       "    <tr>\n",
       "      <th>9</th>\n",
       "      <td>10</td>\n",
       "      <td>ABC10</td>\n",
       "      <td>34.0</td>\n",
       "      <td>1009</td>\n",
       "    </tr>\n",
       "    <tr>\n",
       "      <th>10</th>\n",
       "      <td>10</td>\n",
       "      <td>ABC10</td>\n",
       "      <td>34.0</td>\n",
       "      <td>1009</td>\n",
       "    </tr>\n",
       "    <tr>\n",
       "      <th>11</th>\n",
       "      <td>11</td>\n",
       "      <td>ABC11</td>\n",
       "      <td>5.0</td>\n",
       "      <td>12121</td>\n",
       "    </tr>\n",
       "  </tbody>\n",
       "</table>\n",
       "</div>"
      ],
      "text/plain": [
       "    RollNo   Name   Age  Salary\n",
       "0        1   ABC1  25.0    1000\n",
       "1        2   ABC2  26.0    1001\n",
       "2        3   ABC3  27.0    1002\n",
       "3        4   ABC4  28.0    1003\n",
       "4        5   ABC5  29.0    1004\n",
       "5        6   ABC6  30.0    1005\n",
       "6        7   ABC7  31.0    1006\n",
       "7        8   ABC8  32.0    1007\n",
       "8        9   ABC9  33.0    1008\n",
       "9       10  ABC10  34.0    1009\n",
       "10      10  ABC10  34.0    1009\n",
       "11      11  ABC11   5.0   12121"
      ]
     },
     "execution_count": 93,
     "metadata": {},
     "output_type": "execute_result"
    }
   ],
   "source": [
    "# dropWaladf.apply(pd.to_numeric, errors='ignore')\n",
    "employeeTracker3 = employeeTracker2.apply(pd.to_numeric, errors='ignore') \n",
    "employeeTracker3"
   ]
  },
  {
   "cell_type": "code",
   "execution_count": 94,
   "id": "51dd0fa6-1a7e-47e1-8311-925e869ea34a",
   "metadata": {},
   "outputs": [
    {
     "data": {
      "text/plain": [
       "RollNo  Name   Age   Salary\n",
       "10      ABC10  34.0  1009      2\n",
       "1       ABC1   25.0  1000      1\n",
       "2       ABC2   26.0  1001      1\n",
       "3       ABC3   27.0  1002      1\n",
       "4       ABC4   28.0  1003      1\n",
       "5       ABC5   29.0  1004      1\n",
       "6       ABC6   30.0  1005      1\n",
       "7       ABC7   31.0  1006      1\n",
       "8       ABC8   32.0  1007      1\n",
       "9       ABC9   33.0  1008      1\n",
       "11      ABC11  5.0   12121     1\n",
       "Name: count, dtype: int64"
      ]
     },
     "execution_count": 94,
     "metadata": {},
     "output_type": "execute_result"
    }
   ],
   "source": [
    "employeeTracker3.value_counts()"
   ]
  },
  {
   "cell_type": "code",
   "execution_count": 95,
   "id": "2f15880a-382a-4272-b922-b28dc667927c",
   "metadata": {},
   "outputs": [
    {
     "name": "stdout",
     "output_type": "stream",
     "text": [
      "<class 'pandas.core.frame.DataFrame'>\n",
      "RangeIndex: 12 entries, 0 to 11\n",
      "Data columns (total 4 columns):\n",
      " #   Column  Non-Null Count  Dtype  \n",
      "---  ------  --------------  -----  \n",
      " 0   RollNo  12 non-null     int64  \n",
      " 1   Name    12 non-null     object \n",
      " 2   Age     12 non-null     float64\n",
      " 3   Salary  12 non-null     int64  \n",
      "dtypes: float64(1), int64(2), object(1)\n",
      "memory usage: 516.0+ bytes\n"
     ]
    }
   ],
   "source": [
    "employeeTracker3.info()"
   ]
  },
  {
   "cell_type": "code",
   "execution_count": 96,
   "id": "577c2991-7726-4771-8048-392dd8eac0b0",
   "metadata": {},
   "outputs": [],
   "source": [
    "# employeeTracker3['Name'] = pd.to_numeric(employeeTracker3['Name'])\n",
    "employeeTracker3['Age'] = employeeTracker3['Age'].apply(pd.to_numeric, errors='ignore') "
   ]
  },
  {
   "cell_type": "code",
   "execution_count": 97,
   "id": "f0d10cc0-4a00-4eb7-9458-e6b0f54d22f4",
   "metadata": {},
   "outputs": [
    {
     "data": {
      "text/html": [
       "<div>\n",
       "<style scoped>\n",
       "    .dataframe tbody tr th:only-of-type {\n",
       "        vertical-align: middle;\n",
       "    }\n",
       "\n",
       "    .dataframe tbody tr th {\n",
       "        vertical-align: top;\n",
       "    }\n",
       "\n",
       "    .dataframe thead th {\n",
       "        text-align: right;\n",
       "    }\n",
       "</style>\n",
       "<table border=\"1\" class=\"dataframe\">\n",
       "  <thead>\n",
       "    <tr style=\"text-align: right;\">\n",
       "      <th></th>\n",
       "      <th>RollNo</th>\n",
       "      <th>Name</th>\n",
       "      <th>Age</th>\n",
       "      <th>Salary</th>\n",
       "    </tr>\n",
       "  </thead>\n",
       "  <tbody>\n",
       "    <tr>\n",
       "      <th>0</th>\n",
       "      <td>1</td>\n",
       "      <td>ABC1</td>\n",
       "      <td>25.0</td>\n",
       "      <td>1000</td>\n",
       "    </tr>\n",
       "    <tr>\n",
       "      <th>1</th>\n",
       "      <td>2</td>\n",
       "      <td>ABC2</td>\n",
       "      <td>26.0</td>\n",
       "      <td>1001</td>\n",
       "    </tr>\n",
       "    <tr>\n",
       "      <th>2</th>\n",
       "      <td>3</td>\n",
       "      <td>ABC3</td>\n",
       "      <td>27.0</td>\n",
       "      <td>1002</td>\n",
       "    </tr>\n",
       "    <tr>\n",
       "      <th>3</th>\n",
       "      <td>4</td>\n",
       "      <td>ABC4</td>\n",
       "      <td>28.0</td>\n",
       "      <td>1003</td>\n",
       "    </tr>\n",
       "    <tr>\n",
       "      <th>4</th>\n",
       "      <td>5</td>\n",
       "      <td>ABC5</td>\n",
       "      <td>29.0</td>\n",
       "      <td>1004</td>\n",
       "    </tr>\n",
       "    <tr>\n",
       "      <th>5</th>\n",
       "      <td>6</td>\n",
       "      <td>ABC6</td>\n",
       "      <td>30.0</td>\n",
       "      <td>1005</td>\n",
       "    </tr>\n",
       "    <tr>\n",
       "      <th>6</th>\n",
       "      <td>7</td>\n",
       "      <td>ABC7</td>\n",
       "      <td>31.0</td>\n",
       "      <td>1006</td>\n",
       "    </tr>\n",
       "    <tr>\n",
       "      <th>7</th>\n",
       "      <td>8</td>\n",
       "      <td>ABC8</td>\n",
       "      <td>32.0</td>\n",
       "      <td>1007</td>\n",
       "    </tr>\n",
       "    <tr>\n",
       "      <th>8</th>\n",
       "      <td>9</td>\n",
       "      <td>ABC9</td>\n",
       "      <td>33.0</td>\n",
       "      <td>1008</td>\n",
       "    </tr>\n",
       "    <tr>\n",
       "      <th>9</th>\n",
       "      <td>10</td>\n",
       "      <td>ABC10</td>\n",
       "      <td>34.0</td>\n",
       "      <td>1009</td>\n",
       "    </tr>\n",
       "    <tr>\n",
       "      <th>10</th>\n",
       "      <td>10</td>\n",
       "      <td>ABC10</td>\n",
       "      <td>34.0</td>\n",
       "      <td>1009</td>\n",
       "    </tr>\n",
       "    <tr>\n",
       "      <th>11</th>\n",
       "      <td>11</td>\n",
       "      <td>ABC11</td>\n",
       "      <td>5.0</td>\n",
       "      <td>12121</td>\n",
       "    </tr>\n",
       "  </tbody>\n",
       "</table>\n",
       "</div>"
      ],
      "text/plain": [
       "    RollNo   Name   Age  Salary\n",
       "0        1   ABC1  25.0    1000\n",
       "1        2   ABC2  26.0    1001\n",
       "2        3   ABC3  27.0    1002\n",
       "3        4   ABC4  28.0    1003\n",
       "4        5   ABC5  29.0    1004\n",
       "5        6   ABC6  30.0    1005\n",
       "6        7   ABC7  31.0    1006\n",
       "7        8   ABC8  32.0    1007\n",
       "8        9   ABC9  33.0    1008\n",
       "9       10  ABC10  34.0    1009\n",
       "10      10  ABC10  34.0    1009\n",
       "11      11  ABC11   5.0   12121"
      ]
     },
     "execution_count": 97,
     "metadata": {},
     "output_type": "execute_result"
    }
   ],
   "source": [
    "employeeTracker3"
   ]
  },
  {
   "cell_type": "code",
   "execution_count": 98,
   "id": "1242642c-dc9e-4ebc-b055-7d9e1e7d7d5a",
   "metadata": {},
   "outputs": [
    {
     "name": "stdout",
     "output_type": "stream",
     "text": [
      "<class 'pandas.core.frame.DataFrame'>\n",
      "RangeIndex: 12 entries, 0 to 11\n",
      "Data columns (total 4 columns):\n",
      " #   Column  Non-Null Count  Dtype  \n",
      "---  ------  --------------  -----  \n",
      " 0   RollNo  12 non-null     int64  \n",
      " 1   Name    12 non-null     object \n",
      " 2   Age     12 non-null     float64\n",
      " 3   Salary  12 non-null     int64  \n",
      "dtypes: float64(1), int64(2), object(1)\n",
      "memory usage: 516.0+ bytes\n"
     ]
    }
   ],
   "source": [
    "employeeTracker3.info()"
   ]
  },
  {
   "cell_type": "code",
   "execution_count": 99,
   "id": "80bd99cb-653f-467e-bf15-a2becc3a9415",
   "metadata": {},
   "outputs": [
    {
     "name": "stdout",
     "output_type": "stream",
     "text": [
      "    RollNo   Name  Age  Salary\n",
      "0        1   ABC1   25    1000\n",
      "1        2   ABC2   26    1001\n",
      "2        3   ABC3   27    1002\n",
      "3        4   ABC4   28    1003\n",
      "4        5   ABC5   29    1004\n",
      "5        6   ABC6   30    1005\n",
      "6        7   ABC7   31    1006\n",
      "7        8   ABC8   32    1007\n",
      "8        9   ABC9   33    1008\n",
      "9       10  ABC10   34    1009\n",
      "10      10  ABC10   34    1009\n",
      "11      11  ABC11    5   12121\n"
     ]
    }
   ],
   "source": [
    "employeeTracker3['Age'] = employeeTracker3['Age'].apply(np.int64)\n",
    "print(employeeTracker3)"
   ]
  },
  {
   "cell_type": "code",
   "execution_count": 100,
   "id": "5c6d5b67-27d0-4b65-b223-ec2e24719ed9",
   "metadata": {},
   "outputs": [
    {
     "name": "stdout",
     "output_type": "stream",
     "text": [
      "<class 'pandas.core.frame.DataFrame'>\n",
      "RangeIndex: 12 entries, 0 to 11\n",
      "Data columns (total 4 columns):\n",
      " #   Column  Non-Null Count  Dtype \n",
      "---  ------  --------------  ----- \n",
      " 0   RollNo  12 non-null     int64 \n",
      " 1   Name    12 non-null     object\n",
      " 2   Age     12 non-null     int64 \n",
      " 3   Salary  12 non-null     int64 \n",
      "dtypes: int64(3), object(1)\n",
      "memory usage: 516.0+ bytes\n"
     ]
    }
   ],
   "source": [
    "employeeTracker3.info()"
   ]
  },
  {
   "cell_type": "markdown",
   "id": "7fd556af-9e78-4ec1-97b4-03fc6d0cb08e",
   "metadata": {},
   "source": [
    "### Convert file to CSV"
   ]
  },
  {
   "cell_type": "code",
   "execution_count": 101,
   "id": "93bd6312-e98c-411a-a668-05cd4c9b3ca1",
   "metadata": {},
   "outputs": [],
   "source": [
    "# employeeTracker3.to_csv('FILENAME')"
   ]
  },
  {
   "cell_type": "markdown",
   "id": "8625b914-7e1f-45c0-8102-843206496bdd",
   "metadata": {},
   "source": [
    "### DROP DUPLICATES"
   ]
  },
  {
   "cell_type": "code",
   "execution_count": 102,
   "id": "056a3898-1335-44e1-a80a-f2505c616e25",
   "metadata": {},
   "outputs": [],
   "source": [
    "# employeeTracker3.drop_duplicates(subset='Age', keep='last')"
   ]
  },
  {
   "cell_type": "code",
   "execution_count": null,
   "id": "e0c1c0b4-9073-4a34-98e9-fc9b0fbe274b",
   "metadata": {},
   "outputs": [],
   "source": []
  }
 ],
 "metadata": {
  "kernelspec": {
   "display_name": "Python 3 (ipykernel)",
   "language": "python",
   "name": "python3"
  },
  "language_info": {
   "codemirror_mode": {
    "name": "ipython",
    "version": 3
   },
   "file_extension": ".py",
   "mimetype": "text/x-python",
   "name": "python",
   "nbconvert_exporter": "python",
   "pygments_lexer": "ipython3",
   "version": "3.11.7"
  }
 },
 "nbformat": 4,
 "nbformat_minor": 5
}
