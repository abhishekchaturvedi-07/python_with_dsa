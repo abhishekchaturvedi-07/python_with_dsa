{
 "cells": [
  {
   "cell_type": "code",
   "execution_count": 2,
   "id": "888e3522-e8bf-4377-a419-bb132b5d0fde",
   "metadata": {},
   "outputs": [],
   "source": [
    "# List Actions\n",
    "\n",
    "list = [1,2,3,4]"
   ]
  },
  {
   "cell_type": "code",
   "execution_count": 3,
   "id": "8c0425bc-a4a3-44cd-b27e-cbcfa2559940",
   "metadata": {},
   "outputs": [
    {
     "name": "stdout",
     "output_type": "stream",
     "text": [
      "1\n"
     ]
    }
   ],
   "source": [
    "print(list[0])"
   ]
  },
  {
   "cell_type": "code",
   "execution_count": 9,
   "id": "e09826c3-abd6-45a0-8fd6-88992bebc413",
   "metadata": {},
   "outputs": [
    {
     "name": "stdout",
     "output_type": "stream",
     "text": [
      "[1, 2]\n"
     ]
    }
   ],
   "source": [
    "print(list[0:2])"
   ]
  },
  {
   "cell_type": "code",
   "execution_count": 10,
   "id": "490beeba-bc1f-4584-8f4d-9a28098ac4d2",
   "metadata": {},
   "outputs": [],
   "source": [
    "list[2]=7"
   ]
  },
  {
   "cell_type": "code",
   "execution_count": 11,
   "id": "96699ca3-f31e-42dc-91ed-fcc9710f88af",
   "metadata": {},
   "outputs": [
    {
     "name": "stdout",
     "output_type": "stream",
     "text": [
      "[1, 2, 7, 4]\n"
     ]
    }
   ],
   "source": [
    "print(list)"
   ]
  },
  {
   "cell_type": "code",
   "execution_count": 19,
   "id": "ee4802a9-3e40-4b87-8f28-75b9bad3bae4",
   "metadata": {},
   "outputs": [
    {
     "name": "stdout",
     "output_type": "stream",
     "text": [
      "[1, 2, 7, 4, 9, [11, 45]]\n"
     ]
    }
   ],
   "source": [
    "list.append([11,45])\n",
    "print(list)"
   ]
  },
  {
   "cell_type": "code",
   "execution_count": 20,
   "id": "63f97e22-eac3-4484-9171-19ea154e2ce0",
   "metadata": {},
   "outputs": [
    {
     "data": {
      "text/plain": [
       "[11, 45]"
      ]
     },
     "execution_count": 20,
     "metadata": {},
     "output_type": "execute_result"
    }
   ],
   "source": [
    "list.pop()"
   ]
  },
  {
   "cell_type": "code",
   "execution_count": 33,
   "id": "49bae295-85fa-4410-9019-9368ad169d03",
   "metadata": {},
   "outputs": [],
   "source": [
    "list.extend([11,45])"
   ]
  },
  {
   "cell_type": "code",
   "execution_count": 34,
   "id": "cf2ee896-df5d-49dd-888a-b0fef5454f6c",
   "metadata": {},
   "outputs": [
    {
     "name": "stdout",
     "output_type": "stream",
     "text": [
      "[1, 2, 7, 4, 9, 11, 45]\n"
     ]
    }
   ],
   "source": [
    "print(list)"
   ]
  },
  {
   "cell_type": "code",
   "execution_count": 35,
   "id": "0f07d905-7481-4e9e-93fe-df8cfab77fd6",
   "metadata": {},
   "outputs": [],
   "source": [
    "list.append(55)"
   ]
  },
  {
   "cell_type": "code",
   "execution_count": 36,
   "id": "e15aba2c-94d6-426f-ad21-acf16d642a90",
   "metadata": {},
   "outputs": [
    {
     "name": "stdout",
     "output_type": "stream",
     "text": [
      "[1, 2, 7, 4, 9, 11, 45, 55]\n"
     ]
    }
   ],
   "source": [
    "print(list)"
   ]
  },
  {
   "cell_type": "code",
   "execution_count": 38,
   "id": "7390af2e-6789-49f1-9c9d-4ea380602731",
   "metadata": {},
   "outputs": [],
   "source": [
    "list.remove(2)"
   ]
  },
  {
   "cell_type": "code",
   "execution_count": 39,
   "id": "0fae4b35-e420-4602-b273-b31d39517eeb",
   "metadata": {},
   "outputs": [
    {
     "name": "stdout",
     "output_type": "stream",
     "text": [
      "[1, 7, 4, 9, 11, 45, 55]\n"
     ]
    }
   ],
   "source": [
    "print(list)"
   ]
  },
  {
   "cell_type": "code",
   "execution_count": 41,
   "id": "52887969-a96a-47c0-b9f1-2df21722c372",
   "metadata": {},
   "outputs": [
    {
     "name": "stdout",
     "output_type": "stream",
     "text": [
      "1\n"
     ]
    }
   ],
   "source": [
    "print(list.index(7))"
   ]
  },
  {
   "cell_type": "code",
   "execution_count": 47,
   "id": "a390435c-3f4b-45f5-8442-0db8d8b0eb80",
   "metadata": {},
   "outputs": [
    {
     "name": "stdout",
     "output_type": "stream",
     "text": [
      "2\n"
     ]
    }
   ],
   "source": [
    "print(list.count(7))"
   ]
  },
  {
   "cell_type": "code",
   "execution_count": 46,
   "id": "60ad7c4a-32f8-419d-90bd-9c1f986a47c4",
   "metadata": {},
   "outputs": [
    {
     "name": "stdout",
     "output_type": "stream",
     "text": [
      "[1, 7, 4, 9, 11, 45, 55, 7]\n"
     ]
    }
   ],
   "source": [
    "list.append(7)\n",
    "print(list)"
   ]
  },
  {
   "cell_type": "code",
   "execution_count": 50,
   "id": "44b64501-7e50-4209-95d8-7c77495e4005",
   "metadata": {},
   "outputs": [
    {
     "name": "stdout",
     "output_type": "stream",
     "text": [
      "2\n",
      "[1, 4, 7, 7, 9, 11, 45, 55]\n"
     ]
    }
   ],
   "source": [
    "list.sort()\n",
    "print(list.count(7))\n",
    "print(list)"
   ]
  },
  {
   "cell_type": "code",
   "execution_count": 51,
   "id": "beff0c4c-dd60-4919-a221-44db105e03ed",
   "metadata": {},
   "outputs": [
    {
     "name": "stdout",
     "output_type": "stream",
     "text": [
      "[55, 45, 11, 9, 7, 7, 4, 1]\n"
     ]
    }
   ],
   "source": [
    "list.reverse()\n",
    "print(list)"
   ]
  },
  {
   "cell_type": "markdown",
   "id": "930c42a6-3e9d-4d1d-bb61-228260c3ebaa",
   "metadata": {},
   "source": [
    "# List with Loops"
   ]
  },
  {
   "cell_type": "code",
   "execution_count": 58,
   "id": "db1cf35f-9004-42a7-b7a7-b5e51fbdad0e",
   "metadata": {},
   "outputs": [
    {
     "name": "stdout",
     "output_type": "stream",
     "text": [
      "Hi from  iPhone , I am present\n",
      "Hello from  Samsung\n",
      "Hello from  Nokia\n"
     ]
    }
   ],
   "source": [
    "list = [\"iPhone\", \"Samsung\", \"Nokia\"]\n",
    "for phone in list:\n",
    "    if phone == \"iPhone\":\n",
    "        print(\"Hi from \",phone, \", I am present\")\n",
    "    else: \n",
    "        print(\"Hello from \", phone)"
   ]
  },
  {
   "cell_type": "markdown",
   "id": "f1dbab42-7686-44c2-acef-1acce7daf2dc",
   "metadata": {},
   "source": [
    "### Conditional Loop - While"
   ]
  },
  {
   "cell_type": "code",
   "execution_count": 63,
   "id": "1c7dedc5-dd33-418f-86db-332372272253",
   "metadata": {},
   "outputs": [
    {
     "name": "stdout",
     "output_type": "stream",
     "text": [
      "Length of List -  3\n",
      "Samsung\n",
      "Nokia\n"
     ]
    }
   ],
   "source": [
    "i = 1\n",
    "print(\"Length of List - \",len(list))\n",
    "while i < len(list):\n",
    "    print(list[i])\n",
    "    i = i +1"
   ]
  },
  {
   "cell_type": "markdown",
   "id": "1e93ec3c-3583-4a76-9d0c-5e79692bff11",
   "metadata": {},
   "source": [
    "#### Append to New List if a is present in any fruit name"
   ]
  },
  {
   "cell_type": "code",
   "execution_count": 65,
   "id": "e89208a4-556d-4812-b91c-095d6345413b",
   "metadata": {},
   "outputs": [
    {
     "name": "stdout",
     "output_type": "stream",
     "text": [
      "['apple', 'banana']\n"
     ]
    }
   ],
   "source": [
    "fruits = [\"apple\", \"kiwi\", \"banana\"]\n",
    "new_list = []\n",
    "\n",
    "for fruit in fruits:\n",
    "    if \"a\" in fruit:\n",
    "        new_list.append(fruit)\n",
    "\n",
    "print(new_list)"
   ]
  },
  {
   "cell_type": "code",
   "execution_count": null,
   "id": "a9806739-f631-487f-b6d5-f22ae8497f31",
   "metadata": {},
   "outputs": [],
   "source": []
  }
 ],
 "metadata": {
  "kernelspec": {
   "display_name": "Python 3 (ipykernel)",
   "language": "python",
   "name": "python3"
  },
  "language_info": {
   "codemirror_mode": {
    "name": "ipython",
    "version": 3
   },
   "file_extension": ".py",
   "mimetype": "text/x-python",
   "name": "python",
   "nbconvert_exporter": "python",
   "pygments_lexer": "ipython3",
   "version": "3.11.7"
  }
 },
 "nbformat": 4,
 "nbformat_minor": 5
}
