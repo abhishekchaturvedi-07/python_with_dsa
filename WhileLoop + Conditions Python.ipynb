{
 "cells": [
  {
   "cell_type": "code",
   "execution_count": 3,
   "id": "91de65c9-4668-42ac-9ad0-4448f787110f",
   "metadata": {},
   "outputs": [
    {
     "name": "stdout",
     "output_type": "stream",
     "text": [
      "1\n",
      "2\n",
      "3\n",
      "4\n",
      "5\n"
     ]
    }
   ],
   "source": [
    "i = 1\n",
    "while i < 6:\n",
    "    print(i)\n",
    "    i=i+1"
   ]
  },
  {
   "cell_type": "code",
   "execution_count": 4,
   "id": "1e54cdd2-4da2-47ff-9f6b-b40443b929dd",
   "metadata": {},
   "outputs": [
    {
     "name": "stdout",
     "output_type": "stream",
     "text": [
      "1\n",
      "2\n",
      "3\n",
      "4\n",
      "5\n",
      "6\n"
     ]
    }
   ],
   "source": [
    "i = 1\n",
    "while i <= 6:\n",
    "    print(i)\n",
    "    i=i+1"
   ]
  },
  {
   "cell_type": "code",
   "execution_count": 16,
   "id": "8b926ce6-2cac-4dd1-8566-e52afbbeb787",
   "metadata": {},
   "outputs": [
    {
     "name": "stdout",
     "output_type": "stream",
     "text": [
      "1\n",
      "2\n"
     ]
    }
   ],
   "source": [
    "# break\n",
    "\n",
    "i = 0\n",
    "while i <= 6:\n",
    "    \n",
    "    \n",
    "    i=i+1\n",
    "    if i == 3:\n",
    "        \n",
    "        break\n",
    "    print(i) "
   ]
  },
  {
   "cell_type": "code",
   "execution_count": 14,
   "id": "660f0da8-8765-41c3-ac72-6b65c7f14f1c",
   "metadata": {},
   "outputs": [
    {
     "name": "stdout",
     "output_type": "stream",
     "text": [
      "1\n",
      "2\n",
      "4\n",
      "5\n",
      "6\n",
      "7\n"
     ]
    }
   ],
   "source": [
    "# continue\n",
    "\n",
    "i = 0\n",
    "while i <= 6:\n",
    "    \n",
    "    i+=1\n",
    "    if i == 3:\n",
    "        continue\n",
    "    print(i)"
   ]
  },
  {
   "cell_type": "code",
   "execution_count": 19,
   "id": "a527d23b-7f71-4fab-b0d2-5a2ab8259d4d",
   "metadata": {},
   "outputs": [
    {
     "name": "stdout",
     "output_type": "stream",
     "text": [
      "0\n",
      "1\n",
      "2\n",
      "3\n",
      "4\n",
      "5\n",
      "more than 6\n"
     ]
    }
   ],
   "source": [
    "i = 0\n",
    "while i < 6:\n",
    "    print(i)\n",
    "    i+=1\n",
    "else:\n",
    "    print('more than 6')"
   ]
  },
  {
   "cell_type": "markdown",
   "id": "62ba746e-990e-4306-9227-0b81571a6c9e",
   "metadata": {},
   "source": [
    "## ITER Function"
   ]
  },
  {
   "cell_type": "code",
   "execution_count": 22,
   "id": "08239e00-4e68-41aa-a1de-79c09b6657c7",
   "metadata": {},
   "outputs": [
    {
     "name": "stdout",
     "output_type": "stream",
     "text": [
      "iPhone\n",
      "Samsung\n",
      "OnePlus\n"
     ]
    },
    {
     "ename": "StopIteration",
     "evalue": "",
     "output_type": "error",
     "traceback": [
      "\u001b[0;31m---------------------------------------------------------------------------\u001b[0m",
      "\u001b[0;31mStopIteration\u001b[0m                             Traceback (most recent call last)",
      "Cell \u001b[0;32mIn[22], line 8\u001b[0m\n\u001b[1;32m      6\u001b[0m \u001b[38;5;28mprint\u001b[39m(\u001b[38;5;28mnext\u001b[39m(it))\n\u001b[1;32m      7\u001b[0m \u001b[38;5;28mprint\u001b[39m(\u001b[38;5;28mnext\u001b[39m(it))\n\u001b[0;32m----> 8\u001b[0m \u001b[38;5;28mprint\u001b[39m(\u001b[38;5;28mnext\u001b[39m(it))\n",
      "\u001b[0;31mStopIteration\u001b[0m: "
     ]
    }
   ],
   "source": [
    "phones = ['iPhone', 'Samsung', 'OnePlus']\n",
    "\n",
    "it = iter(phones)\n",
    "\n",
    "print(next(it))\n",
    "print(next(it))\n",
    "print(next(it))\n",
    "print(next(it))"
   ]
  },
  {
   "cell_type": "code",
   "execution_count": null,
   "id": "5e4827a1-6aa5-4a07-88ae-c1a599ede6d9",
   "metadata": {},
   "outputs": [],
   "source": []
  },
  {
   "cell_type": "code",
   "execution_count": 27,
   "id": "8a9930b8-8d49-4ee7-b8b2-a5b70e95f97a",
   "metadata": {},
   "outputs": [
    {
     "name": "stdout",
     "output_type": "stream",
     "text": [
      "a is bigger then b\n"
     ]
    }
   ],
   "source": [
    "a = 200\n",
    "b = 20\n",
    "print('a is smaller then b') if a < b else print('a is bigger then b') if a > b else print('a is equal to b')"
   ]
  },
  {
   "cell_type": "code",
   "execution_count": 37,
   "id": "f976ed24-d481-4f91-adc8-9a372c5bb39a",
   "metadata": {},
   "outputs": [
    {
     "name": "stdout",
     "output_type": "stream",
     "text": [
      "b is greater then 50\n",
      "b is in between 50 to 80\n"
     ]
    }
   ],
   "source": [
    "a = 200\n",
    "b = 60\n",
    "if b > 10:\n",
    "    print('b is greater then 50') ;\n",
    "    if b > 80 and b < 100:\n",
    "        print('b is greater then 80 and less then 100') ;\n",
    "    else:\n",
    "        print('b is in between 50 to 80')\n",
    "else:\n",
    "        print('b is less then 10 ') "
   ]
  },
  {
   "cell_type": "code",
   "execution_count": 45,
   "id": "b12517da-9e1b-4a03-abc0-e02a2e4079c7",
   "metadata": {},
   "outputs": [
    {
     "name": "stdin",
     "output_type": "stream",
     "text": [
      "Enter value between 1 and 9 3\n"
     ]
    },
    {
     "name": "stdout",
     "output_type": "stream",
     "text": [
      "roll you -  3\n"
     ]
    }
   ],
   "source": [
    "number = int(input('Enter value between 1 and 9'))\n",
    "if number == 7: \n",
    "    print('luck you - ',number)\n",
    "elif number == 3:\n",
    "    print('roll you - ',number)\n",
    "else:\n",
    "    print('your number - ',number)"
   ]
  },
  {
   "cell_type": "code",
   "execution_count": null,
   "id": "dc8fee71-8766-4ecf-8051-53f60ac5ded3",
   "metadata": {},
   "outputs": [],
   "source": []
  }
 ],
 "metadata": {
  "kernelspec": {
   "display_name": "Python 3 (ipykernel)",
   "language": "python",
   "name": "python3"
  },
  "language_info": {
   "codemirror_mode": {
    "name": "ipython",
    "version": 3
   },
   "file_extension": ".py",
   "mimetype": "text/x-python",
   "name": "python",
   "nbconvert_exporter": "python",
   "pygments_lexer": "ipython3",
   "version": "3.11.7"
  }
 },
 "nbformat": 4,
 "nbformat_minor": 5
}
