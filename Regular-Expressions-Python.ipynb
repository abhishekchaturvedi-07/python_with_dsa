{
 "cells": [
  {
   "cell_type": "code",
   "execution_count": 6,
   "id": "d81226da-0e14-42f1-bc90-2a62b0827245",
   "metadata": {},
   "outputs": [
    {
     "name": "stdout",
     "output_type": "stream",
     "text": [
      "Hello,0dear0I0am0Rocky0007!\n"
     ]
    }
   ],
   "source": [
    "import re\n",
    "\n",
    "#\\s is White SPACE\n",
    "\n",
    "str = \"Hello, dear I am Rocky 007!\"\n",
    "fresh = re.sub('\\s','0',str)\n",
    "print(fresh)"
   ]
  },
  {
   "cell_type": "code",
   "execution_count": 7,
   "id": "45a99147-abfe-45e8-a03e-dc409ef111a9",
   "metadata": {},
   "outputs": [
    {
     "name": "stdout",
     "output_type": "stream",
     "text": [
      "000000 0000 0 00 00000 0000\n"
     ]
    }
   ],
   "source": [
    "import re\n",
    "\n",
    "#\\s is string character\n",
    "\n",
    "str = \"Hello, dear I am Rocky 007!\"\n",
    "fresh = re.sub('\\S','0',str)\n",
    "print(fresh)"
   ]
  },
  {
   "cell_type": "code",
   "execution_count": 9,
   "id": "0554a5c2-7ac3-4576-8661-c80664b1fe7b",
   "metadata": {},
   "outputs": [
    {
     "name": "stdout",
     "output_type": "stream",
     "text": [
      "Hello, dear I am Rocky @@@!\n"
     ]
    }
   ],
   "source": [
    "import re\n",
    "\n",
    "#\\d is numbers\n",
    "\n",
    "str = \"Hello, dear I am Rocky 007!\"\n",
    "fresh = re.sub('\\d','@',str)\n",
    "print(fresh)"
   ]
  },
  {
   "cell_type": "code",
   "execution_count": 10,
   "id": "079f999c-7cb1-4c17-88ef-9fa11137fd2c",
   "metadata": {},
   "outputs": [
    {
     "name": "stdout",
     "output_type": "stream",
     "text": [
      "@@@@@@@@@@@@@@@@@@@@@@@007@\n"
     ]
    }
   ],
   "source": [
    "import re\n",
    "\n",
    "#\\D is a part of numbers\n",
    "\n",
    "str = \"Hello, dear I am Rocky 007!\"\n",
    "fresh = re.sub('\\D','@',str)\n",
    "print(fresh)"
   ]
  },
  {
   "cell_type": "markdown",
   "id": "98cb7e4b-4cd8-44b0-a3d1-3682be5547db",
   "metadata": {},
   "source": [
    "## Tokenization"
   ]
  },
  {
   "cell_type": "code",
   "execution_count": 13,
   "id": "8a1e0fa0-d0bf-48d6-85f4-e8d20962689d",
   "metadata": {},
   "outputs": [
    {
     "name": "stdout",
     "output_type": "stream",
     "text": [
      "['Hello,', 'dear', 'I', 'am', 'Rocky', '007!']\n",
      "Hello,\n"
     ]
    }
   ],
   "source": [
    "#split - convert text into word is tokenization\n",
    "\n",
    "str = \"Hello, dear I am Rocky 007!\"\n",
    "fresh = str.split(\" \")\n",
    "print(fresh)\n",
    "print(fresh[0])"
   ]
  },
  {
   "cell_type": "code",
   "execution_count": null,
   "id": "67f15a86-a75d-4765-9c88-f57c3a7d38c9",
   "metadata": {},
   "outputs": [],
   "source": []
  }
 ],
 "metadata": {
  "kernelspec": {
   "display_name": "Python 3 (ipykernel)",
   "language": "python",
   "name": "python3"
  },
  "language_info": {
   "codemirror_mode": {
    "name": "ipython",
    "version": 3
   },
   "file_extension": ".py",
   "mimetype": "text/x-python",
   "name": "python",
   "nbconvert_exporter": "python",
   "pygments_lexer": "ipython3",
   "version": "3.11.7"
  }
 },
 "nbformat": 4,
 "nbformat_minor": 5
}
