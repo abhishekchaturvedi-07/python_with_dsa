{
 "cells": [
  {
   "cell_type": "code",
   "execution_count": 2,
   "id": "f83ba161-1193-4c54-a064-f8e39b59ef07",
   "metadata": {},
   "outputs": [
    {
     "data": {
      "text/plain": [
       "3"
      ]
     },
     "execution_count": 2,
     "metadata": {},
     "output_type": "execute_result"
    }
   ],
   "source": [
    "sum = lambda x,y : x+y\n",
    "sum(1,2)"
   ]
  },
  {
   "cell_type": "code",
   "execution_count": 7,
   "id": "d53dbb0a-06cc-44d4-b680-71839be05e7c",
   "metadata": {},
   "outputs": [
    {
     "name": "stdout",
     "output_type": "stream",
     "text": [
      "60000\n"
     ]
    }
   ],
   "source": [
    "def loan(amount):\n",
    "    if amount <= 20000:\n",
    "        return lambda new: new*amount\n",
    "    else:\n",
    "        print('Not Eligible')\n",
    "\n",
    "totalAmount = loan(12000)\n",
    "print(totalAmount(5))"
   ]
  },
  {
   "cell_type": "code",
   "execution_count": null,
   "id": "f35381fa-9e1a-4262-b9a4-5a95291fb048",
   "metadata": {},
   "outputs": [],
   "source": []
  }
 ],
 "metadata": {
  "kernelspec": {
   "display_name": "Python 3 (ipykernel)",
   "language": "python",
   "name": "python3"
  },
  "language_info": {
   "codemirror_mode": {
    "name": "ipython",
    "version": 3
   },
   "file_extension": ".py",
   "mimetype": "text/x-python",
   "name": "python",
   "nbconvert_exporter": "python",
   "pygments_lexer": "ipython3",
   "version": "3.11.7"
  }
 },
 "nbformat": 4,
 "nbformat_minor": 5
}
