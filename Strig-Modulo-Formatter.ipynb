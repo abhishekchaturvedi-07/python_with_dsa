{
 "cells": [
  {
   "cell_type": "markdown",
   "id": "15ed36b0-ad01-4d81-be42-74773ea0e437",
   "metadata": {},
   "source": [
    "## String Modulo"
   ]
  },
  {
   "cell_type": "code",
   "execution_count": 1,
   "id": "32f16648-1c66-446d-87f7-c7a39b0449bc",
   "metadata": {},
   "outputs": [
    {
     "name": "stdout",
     "output_type": "stream",
     "text": [
      "1 3.456\n"
     ]
    }
   ],
   "source": [
    "print(1, 3.456)"
   ]
  },
  {
   "cell_type": "code",
   "execution_count": 2,
   "id": "27e33ca0-e597-4b23-919e-8e722c44c6da",
   "metadata": {},
   "outputs": [
    {
     "name": "stdout",
     "output_type": "stream",
     "text": [
      "Integer - 1 & Float - 3.456 \n"
     ]
    }
   ],
   "source": [
    "print(\"Integer - %d & Float - %.3f \" %(1,3.456))"
   ]
  },
  {
   "cell_type": "code",
   "execution_count": 4,
   "id": "4a114cb7-eb83-4348-b318-7ca9ce662790",
   "metadata": {},
   "outputs": [
    {
     "name": "stdout",
     "output_type": "stream",
     "text": [
      "Hello AC\n"
     ]
    }
   ],
   "source": [
    "str1 = \"Hello\"\n",
    "str2  = \"AC\"\n",
    "print(str1 + \" \" +str2)"
   ]
  },
  {
   "cell_type": "markdown",
   "id": "53004238-a81b-4824-8c71-dc785d7cc44c",
   "metadata": {},
   "source": [
    "### ORDERS in FORMAT - Manual efforts needed"
   ]
  },
  {
   "cell_type": "code",
   "execution_count": 5,
   "id": "3753c3db-8847-4d9e-81e3-f81d59c749c9",
   "metadata": {},
   "outputs": [
    {
     "name": "stdout",
     "output_type": "stream",
     "text": [
      "\n",
      " --- Default Order ---\n",
      "Abhishek, Rocky and Tutu\n"
     ]
    }
   ],
   "source": [
    "# Default Orders \n",
    "print('\\n --- Default Order ---')\n",
    "print(\"{}, {} and {}\".format('Abhishek', 'Rocky', 'Tutu'))"
   ]
  },
  {
   "cell_type": "code",
   "execution_count": 6,
   "id": "248d883e-a9d1-4ef8-a95a-8f6c4af2f3cb",
   "metadata": {},
   "outputs": [
    {
     "name": "stdout",
     "output_type": "stream",
     "text": [
      "\n",
      " --- Positional Order ---\n",
      "Tutu, Abhishek and Rocky\n"
     ]
    }
   ],
   "source": [
    "# Positional Orders \n",
    "print('\\n --- Positional Order ---')\n",
    "print(\"{2}, {0} and {1}\".format('Abhishek', 'Rocky', 'Tutu'))"
   ]
  },
  {
   "cell_type": "code",
   "execution_count": 8,
   "id": "954b7863-749f-473a-9a72-f28b30752aac",
   "metadata": {},
   "outputs": [
    {
     "name": "stdout",
     "output_type": "stream",
     "text": [
      "\n",
      " --- Keywords Order ---\n",
      "Tutu, Rocky and Abhishek\n"
     ]
    }
   ],
   "source": [
    "# Keywords Orders \n",
    "print('\\n --- Keywords Order ---')\n",
    "print(\"{j3}, {j2} and {j1}\".format(j1 = 'Abhishek', j2 = 'Rocky', j3 = 'Tutu'))"
   ]
  },
  {
   "cell_type": "code",
   "execution_count": 12,
   "id": "51bb370e-e224-4129-9dea-598fdc6cddbc",
   "metadata": {},
   "outputs": [
    {
     "name": "stdout",
     "output_type": "stream",
     "text": [
      "My name is Abhishek\n",
      "My name is Abhishek\n"
     ]
    }
   ],
   "source": [
    "name = 'Abhishek'\n",
    "\n",
    "#with %\n",
    "print('My name is %s' %name)\n",
    "\n",
    "# with format\n",
    "print('My name is {}'.format(name))"
   ]
  },
  {
   "cell_type": "markdown",
   "id": "55373dcd-14f5-40d2-86f1-b67d4562cbbe",
   "metadata": {},
   "source": [
    "### String Operations "
   ]
  },
  {
   "cell_type": "code",
   "execution_count": 13,
   "id": "ae00532f-1a23-4931-8000-1581c5ddcbf6",
   "metadata": {},
   "outputs": [
    {
     "data": {
      "text/plain": [
       "'Hello, brother'"
      ]
     },
     "execution_count": 13,
     "metadata": {},
     "output_type": "execute_result"
    }
   ],
   "source": [
    "# Capitalize\n",
    "str = 'hello, brother'\n",
    "str.capitalize()"
   ]
  },
  {
   "cell_type": "code",
   "execution_count": 14,
   "id": "b4331a64-a9f4-4dd3-a3c4-bf10a6fa8645",
   "metadata": {},
   "outputs": [
    {
     "data": {
      "text/plain": [
       "True"
      ]
     },
     "execution_count": 14,
     "metadata": {},
     "output_type": "execute_result"
    }
   ],
   "source": [
    "# is Alpha Numeric ?\n",
    "str = 'hello123'\n",
    "str.isalnum()"
   ]
  },
  {
   "cell_type": "code",
   "execution_count": 43,
   "id": "257d1656-3ecc-4bcf-a488-696ad934a1e4",
   "metadata": {},
   "outputs": [
    {
     "data": {
      "text/plain": [
       "True"
      ]
     },
     "execution_count": 43,
     "metadata": {},
     "output_type": "execute_result"
    }
   ],
   "source": [
    "# is Alphabetical ?\n",
    "str = 'hello'\n",
    "str.isalpha()"
   ]
  },
  {
   "cell_type": "code",
   "execution_count": 17,
   "id": "f0ae4fdd-31f3-40c5-a863-c77b9e12d9e2",
   "metadata": {},
   "outputs": [
    {
     "data": {
      "text/plain": [
       "'HELLO'"
      ]
     },
     "execution_count": 17,
     "metadata": {},
     "output_type": "execute_result"
    }
   ],
   "source": [
    "# Upper and Lower Case\n",
    "str.upper()"
   ]
  },
  {
   "cell_type": "code",
   "execution_count": 18,
   "id": "660c2ceb-7ab0-42cb-8cdb-69a232630c53",
   "metadata": {},
   "outputs": [
    {
     "data": {
      "text/plain": [
       "'hello'"
      ]
     },
     "execution_count": 18,
     "metadata": {},
     "output_type": "execute_result"
    }
   ],
   "source": [
    "str.lower()"
   ]
  },
  {
   "cell_type": "code",
   "execution_count": 44,
   "id": "d4ab4bcb-9707-4742-9647-be30cf16f37f",
   "metadata": {},
   "outputs": [
    {
     "data": {
      "text/plain": [
       "'HELLO'"
      ]
     },
     "execution_count": 44,
     "metadata": {},
     "output_type": "execute_result"
    }
   ],
   "source": [
    "str.swapcase()"
   ]
  },
  {
   "cell_type": "code",
   "execution_count": 20,
   "id": "8de29b22-3af4-4a77-95a0-1cc49d73368b",
   "metadata": {},
   "outputs": [
    {
     "data": {
      "text/plain": [
       "'Hello, brother       '"
      ]
     },
     "execution_count": 20,
     "metadata": {},
     "output_type": "execute_result"
    }
   ],
   "source": [
    "# Trimming the strings\n",
    "\n",
    "str = '       Hello, brother       '\n",
    "str.lstrip()"
   ]
  },
  {
   "cell_type": "code",
   "execution_count": 21,
   "id": "51191988-b874-4fd2-b78d-2acc672c49e6",
   "metadata": {},
   "outputs": [
    {
     "data": {
      "text/plain": [
       "'       Hello, brother'"
      ]
     },
     "execution_count": 21,
     "metadata": {},
     "output_type": "execute_result"
    }
   ],
   "source": [
    "str.rstrip()"
   ]
  },
  {
   "cell_type": "code",
   "execution_count": 22,
   "id": "ec4f08e5-58bf-457e-8c71-0c254b936b3d",
   "metadata": {},
   "outputs": [
    {
     "data": {
      "text/plain": [
       "'Hello, brother'"
      ]
     },
     "execution_count": 22,
     "metadata": {},
     "output_type": "execute_result"
    }
   ],
   "source": [
    "str.strip()"
   ]
  },
  {
   "cell_type": "code",
   "execution_count": 24,
   "id": "7eea62b9-6561-4540-a997-ce27ce242b1b",
   "metadata": {},
   "outputs": [
    {
     "data": {
      "text/plain": [
       "['Hello', 'buddy,', 'how', 'are', 'you', 'doing?']"
      ]
     },
     "execution_count": 24,
     "metadata": {},
     "output_type": "execute_result"
    }
   ],
   "source": [
    "# TOKENIZATION : convert sentance to individual words\n",
    "str = \"Hello buddy, how are you doing?\"\n",
    "str.split()"
   ]
  },
  {
   "cell_type": "code",
   "execution_count": 28,
   "id": "ce04ea81-c9c0-4d40-9ef6-93b6a4fa7dd0",
   "metadata": {},
   "outputs": [
    {
     "name": "stdin",
     "output_type": "stream",
     "text": [
      "Please enter your name:  Abhishek\n"
     ]
    },
    {
     "name": "stdout",
     "output_type": "stream",
     "text": [
      "Welcome Rockstar!\n"
     ]
    }
   ],
   "source": [
    "# Take input from the user and check if he is Abhishek\n",
    "inputName = input(\"Please enter your name: \")\n",
    "if inputName.strip() == \"Abhishek\":\n",
    "    print(\"Welcome Rockstar!\")\n",
    "else:\n",
    "    print(\"Bye bro\")"
   ]
  },
  {
   "cell_type": "code",
   "execution_count": 30,
   "id": "bf7b3664-c3f9-421f-a37f-9afbec711086",
   "metadata": {},
   "outputs": [
    {
     "data": {
      "text/plain": [
       "1"
      ]
     },
     "execution_count": 30,
     "metadata": {},
     "output_type": "execute_result"
    }
   ],
   "source": [
    "# Check the positions and index with find\n",
    "str = 'welcome'\n",
    "str.find('e')"
   ]
  },
  {
   "cell_type": "code",
   "execution_count": 31,
   "id": "cf16838e-441f-48c7-81bc-546a48095477",
   "metadata": {},
   "outputs": [
    {
     "data": {
      "text/plain": [
       "6"
      ]
     },
     "execution_count": 31,
     "metadata": {},
     "output_type": "execute_result"
    }
   ],
   "source": [
    "str.rfind('e')"
   ]
  },
  {
   "cell_type": "code",
   "execution_count": 33,
   "id": "faddbfc2-3fc0-4a38-a511-372509271624",
   "metadata": {},
   "outputs": [
    {
     "data": {
      "text/plain": [
       "1"
      ]
     },
     "execution_count": 33,
     "metadata": {},
     "output_type": "execute_result"
    }
   ],
   "source": [
    "str.index('e')"
   ]
  },
  {
   "cell_type": "code",
   "execution_count": 34,
   "id": "43296c8b-5591-495c-9108-ad536e9678fc",
   "metadata": {},
   "outputs": [
    {
     "data": {
      "text/plain": [
       "6"
      ]
     },
     "execution_count": 34,
     "metadata": {},
     "output_type": "execute_result"
    }
   ],
   "source": [
    "str.rindex('e')"
   ]
  },
  {
   "cell_type": "code",
   "execution_count": 35,
   "id": "2a8a04ae-68ec-4e7d-8e87-dd649907cd68",
   "metadata": {},
   "outputs": [
    {
     "data": {
      "text/plain": [
       "-1"
      ]
     },
     "execution_count": 35,
     "metadata": {},
     "output_type": "execute_result"
    }
   ],
   "source": [
    "str.rfind('z')"
   ]
  },
  {
   "cell_type": "code",
   "execution_count": 37,
   "id": "a808aa14-3826-4e53-89d4-a7c39a4a9fc4",
   "metadata": {},
   "outputs": [
    {
     "data": {
      "text/plain": [
       "'w7lcom7'"
      ]
     },
     "execution_count": 37,
     "metadata": {},
     "output_type": "execute_result"
    }
   ],
   "source": [
    "# REPLACE the characters\n",
    "\n",
    "str = 'welcome'\n",
    "str.replace('e','7')"
   ]
  },
  {
   "cell_type": "code",
   "execution_count": 41,
   "id": "c7b8ddb5-f9bb-4c16-ac3a-3059773e5199",
   "metadata": {},
   "outputs": [
    {
     "data": {
      "text/plain": [
       "'Hello-bro'"
      ]
     },
     "execution_count": 41,
     "metadata": {},
     "output_type": "execute_result"
    }
   ],
   "source": [
    "# JOIN\n",
    "a = ['Hello', 'bro']\n",
    "s = '-'.join(a)\n",
    "s"
   ]
  },
  {
   "cell_type": "code",
   "execution_count": 45,
   "id": "6c73c87f-5a27-499b-b16f-f0fcc1b9f7d0",
   "metadata": {},
   "outputs": [
    {
     "data": {
      "text/plain": [
       "range(0, 10)"
      ]
     },
     "execution_count": 45,
     "metadata": {},
     "output_type": "execute_result"
    }
   ],
   "source": [
    "a = range(0,10)\n",
    "a"
   ]
  },
  {
   "cell_type": "code",
   "execution_count": 47,
   "id": "1bb8c3ee-d0a5-4340-9ba5-70f34c78f014",
   "metadata": {},
   "outputs": [
    {
     "name": "stdout",
     "output_type": "stream",
     "text": [
      "0\n",
      "1\n",
      "2\n",
      "3\n",
      "4\n",
      "5\n",
      "6\n",
      "7\n",
      "8\n",
      "9\n"
     ]
    }
   ],
   "source": [
    "for i in a:\n",
    "    print(i)"
   ]
  },
  {
   "cell_type": "code",
   "execution_count": null,
   "id": "0eab4ade-3f8c-4491-a931-fde246389365",
   "metadata": {},
   "outputs": [],
   "source": []
  }
 ],
 "metadata": {
  "kernelspec": {
   "display_name": "Python 3 (ipykernel)",
   "language": "python",
   "name": "python3"
  },
  "language_info": {
   "codemirror_mode": {
    "name": "ipython",
    "version": 3
   },
   "file_extension": ".py",
   "mimetype": "text/x-python",
   "name": "python",
   "nbconvert_exporter": "python",
   "pygments_lexer": "ipython3",
   "version": "3.11.7"
  }
 },
 "nbformat": 4,
 "nbformat_minor": 5
}
