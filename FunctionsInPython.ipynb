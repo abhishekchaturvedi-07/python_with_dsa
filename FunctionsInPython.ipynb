{
 "cells": [
  {
   "cell_type": "code",
   "execution_count": 1,
   "id": "99138828-fe1b-4601-82fc-f658eaf76c55",
   "metadata": {},
   "outputs": [],
   "source": [
    "# def for defining functions \n",
    "\n",
    "def results(marks):\n",
    "    for mark in marks:\n",
    "        if mark >= 50:\n",
    "            print('Pass')\n",
    "        else:\n",
    "            print('Fail')"
   ]
  },
  {
   "cell_type": "code",
   "execution_count": 2,
   "id": "819fece5-5760-43fb-b726-83f437b2e380",
   "metadata": {},
   "outputs": [
    {
     "name": "stdout",
     "output_type": "stream",
     "text": [
      "Pass\n",
      "Pass\n",
      "Pass\n",
      "Fail\n"
     ]
    }
   ],
   "source": [
    "# Call the function\n",
    "\n",
    "results([75,85,96,41])"
   ]
  },
  {
   "cell_type": "code",
   "execution_count": 3,
   "id": "e47e52f4-2208-4d0e-ba53-bb949b0f6dcd",
   "metadata": {},
   "outputs": [
    {
     "name": "stdout",
     "output_type": "stream",
     "text": [
      "Pass\n",
      "Pass\n",
      "Pass\n",
      "Pass\n"
     ]
    }
   ],
   "source": [
    "results([75,85,96,100])"
   ]
  },
  {
   "cell_type": "code",
   "execution_count": null,
   "id": "379ae8ce-285e-4552-8c5d-ee0bf088b550",
   "metadata": {},
   "outputs": [],
   "source": []
  }
 ],
 "metadata": {
  "kernelspec": {
   "display_name": "Python 3 (ipykernel)",
   "language": "python",
   "name": "python3"
  },
  "language_info": {
   "codemirror_mode": {
    "name": "ipython",
    "version": 3
   },
   "file_extension": ".py",
   "mimetype": "text/x-python",
   "name": "python",
   "nbconvert_exporter": "python",
   "pygments_lexer": "ipython3",
   "version": "3.11.7"
  }
 },
 "nbformat": 4,
 "nbformat_minor": 5
}
