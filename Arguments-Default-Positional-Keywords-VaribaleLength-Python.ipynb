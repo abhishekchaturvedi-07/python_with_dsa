{
 "cells": [
  {
   "cell_type": "code",
   "execution_count": 8,
   "id": "9a574e47-461e-4d0e-bf85-a10ab745ca8f",
   "metadata": {},
   "outputs": [
    {
     "data": {
      "text/plain": [
       "100"
      ]
     },
     "execution_count": 8,
     "metadata": {},
     "output_type": "execute_result"
    }
   ],
   "source": [
    "# default c\n",
    "def add(a,b,c = 10):\n",
    "    return a + b - c\n",
    "add(20,90)"
   ]
  },
  {
   "cell_type": "code",
   "execution_count": 11,
   "id": "3e9fc241-dbe0-4211-a6ca-d52b6634e2a8",
   "metadata": {},
   "outputs": [
    {
     "data": {
      "text/plain": [
       "30"
      ]
     },
     "execution_count": 11,
     "metadata": {},
     "output_type": "execute_result"
    }
   ],
   "source": [
    "# keyword\n",
    "def add(a,b,c = 10):\n",
    "    return a + b - c\n",
    "add(a = 20, c = 90, b= 100)"
   ]
  },
  {
   "cell_type": "code",
   "execution_count": 12,
   "id": "32b5ee2f-ef51-475e-8eb6-1c7b1f61bdf7",
   "metadata": {},
   "outputs": [
    {
     "data": {
      "text/plain": [
       "70"
      ]
     },
     "execution_count": 12,
     "metadata": {},
     "output_type": "execute_result"
    }
   ],
   "source": [
    "# positional\n",
    "def add(a,b,c):\n",
    "    return a + b - c\n",
    "add(20,90, 40)"
   ]
  },
  {
   "cell_type": "code",
   "execution_count": 15,
   "id": "a9b893a3-f1f7-42d7-ad05-e9accf3e1e8e",
   "metadata": {},
   "outputs": [
    {
     "data": {
      "text/plain": [
       "7"
      ]
     },
     "execution_count": 15,
     "metadata": {},
     "output_type": "execute_result"
    }
   ],
   "source": [
    "# Varibale Length\n",
    "\n",
    "def add(* args):\n",
    "    total = 0\n",
    "    for x in args:\n",
    "        total += x\n",
    "    return total\n",
    "add(1,1,1,1,1,1,1)"
   ]
  },
  {
   "cell_type": "code",
   "execution_count": null,
   "id": "e3451df8-479a-4924-be3e-e7e5fd313548",
   "metadata": {},
   "outputs": [],
   "source": []
  }
 ],
 "metadata": {
  "kernelspec": {
   "display_name": "Python 3 (ipykernel)",
   "language": "python",
   "name": "python3"
  },
  "language_info": {
   "codemirror_mode": {
    "name": "ipython",
    "version": 3
   },
   "file_extension": ".py",
   "mimetype": "text/x-python",
   "name": "python",
   "nbconvert_exporter": "python",
   "pygments_lexer": "ipython3",
   "version": "3.11.7"
  }
 },
 "nbformat": 4,
 "nbformat_minor": 5
}
