{
 "cells": [
  {
   "cell_type": "code",
   "execution_count": 10,
   "id": "cda27579-6de8-416f-941e-e3506426a453",
   "metadata": {},
   "outputs": [
    {
     "name": "stdout",
     "output_type": "stream",
     "text": [
      "CPU times: user 28 µs, sys: 5 µs, total: 33 µs\n",
      "Wall time: 39.1 µs\n"
     ]
    },
    {
     "data": {
      "text/plain": [
       "set"
      ]
     },
     "execution_count": 10,
     "metadata": {},
     "output_type": "execute_result"
    }
   ],
   "source": [
    "%%time\n",
    "my_set = {1,1,1,23,23,4,5,5,6,7,3,2,2,5,5}\n",
    "my_set\n",
    "type(my_set)"
   ]
  },
  {
   "cell_type": "markdown",
   "id": "694bd649-5b09-46c1-8b33-96cb3690c0b3",
   "metadata": {},
   "source": [
    "### Addition in Sets"
   ]
  },
  {
   "cell_type": "code",
   "execution_count": 12,
   "id": "922418a4-7bd2-487d-86f1-cfeff28a5ad9",
   "metadata": {},
   "outputs": [],
   "source": [
    "#Single Value at a time\n",
    "my_set.add(8)"
   ]
  },
  {
   "cell_type": "code",
   "execution_count": 4,
   "id": "e9b219e1-2c17-4129-916e-bf5a2250f8ab",
   "metadata": {},
   "outputs": [
    {
     "data": {
      "text/plain": [
       "{1, 2, 3, 4, 5, 6, 7, 8, 23}"
      ]
     },
     "execution_count": 4,
     "metadata": {},
     "output_type": "execute_result"
    }
   ],
   "source": [
    "my_set"
   ]
  },
  {
   "cell_type": "code",
   "execution_count": 5,
   "id": "383d62cc-1808-42d3-b019-8db434587c30",
   "metadata": {},
   "outputs": [
    {
     "ename": "TypeError",
     "evalue": "set.add() takes exactly one argument (2 given)",
     "output_type": "error",
     "traceback": [
      "\u001b[0;31m---------------------------------------------------------------------------\u001b[0m",
      "\u001b[0;31mTypeError\u001b[0m                                 Traceback (most recent call last)",
      "Cell \u001b[0;32mIn[5], line 1\u001b[0m\n\u001b[0;32m----> 1\u001b[0m my_set\u001b[38;5;241m.\u001b[39madd(\u001b[38;5;241m9\u001b[39m,\u001b[38;5;241m10\u001b[39m)\n\u001b[1;32m      2\u001b[0m my_set\n",
      "\u001b[0;31mTypeError\u001b[0m: set.add() takes exactly one argument (2 given)"
     ]
    }
   ],
   "source": [
    "my_set.add(9,10)\n",
    "my_set"
   ]
  },
  {
   "cell_type": "code",
   "execution_count": 7,
   "id": "c257d2da-4a6d-47ce-86c5-4456348c4662",
   "metadata": {},
   "outputs": [
    {
     "data": {
      "text/plain": [
       "{1, 2, 3, 4, 5, 6, 7, 8, 9, 10, 23}"
      ]
     },
     "execution_count": 7,
     "metadata": {},
     "output_type": "execute_result"
    }
   ],
   "source": [
    "# Multiple Values : Update\n",
    "my_set.update([9,10])\n",
    "my_set"
   ]
  },
  {
   "cell_type": "code",
   "execution_count": 9,
   "id": "8149e240-6e5e-4a25-a6d3-c98dfbe432fd",
   "metadata": {},
   "outputs": [
    {
     "data": {
      "text/plain": [
       "{1, 2, 3, 4, 5, 6, 7, 8, 9, 10, 11, 12, 13, 23}"
      ]
     },
     "execution_count": 9,
     "metadata": {},
     "output_type": "execute_result"
    }
   ],
   "source": [
    "# ADd list with Set\n",
    "\n",
    "my_set.update([4,5],{11,11,12,13})\n",
    "my_set"
   ]
  },
  {
   "cell_type": "markdown",
   "id": "562f1dde-0a74-497b-b3fa-63c675529545",
   "metadata": {},
   "source": [
    "### Removal from Sets"
   ]
  },
  {
   "cell_type": "code",
   "execution_count": 17,
   "id": "51c942f3-dabc-4561-8e65-8d19652ce4c7",
   "metadata": {},
   "outputs": [
    {
     "data": {
      "text/plain": [
       "{1, 2, 3, 4, 5, 6, 7}"
      ]
     },
     "execution_count": 17,
     "metadata": {},
     "output_type": "execute_result"
    }
   ],
   "source": [
    "# Remove & Discard\n",
    "# Remove will remove from the memory but discard will remove from the surface only\n",
    "\n",
    "#Remove \n",
    "my_set.remove(23)\n",
    "my_set\n"
   ]
  },
  {
   "cell_type": "code",
   "execution_count": 19,
   "id": "1a65c424-4261-4e77-b2ab-608037ed6735",
   "metadata": {},
   "outputs": [
    {
     "data": {
      "text/plain": [
       "{1, 2, 3, 4, 5, 6}"
      ]
     },
     "execution_count": 19,
     "metadata": {},
     "output_type": "execute_result"
    }
   ],
   "source": [
    "#Discard \n",
    "my_set.discard(7)\n",
    "my_set"
   ]
  },
  {
   "cell_type": "code",
   "execution_count": 20,
   "id": "7fbdde63-33ac-41f8-8432-7c5c036e335e",
   "metadata": {},
   "outputs": [],
   "source": [
    "my_set.discard(7)"
   ]
  },
  {
   "cell_type": "code",
   "execution_count": 24,
   "id": "3c6bb4a9-fdda-4e05-96b0-9e5bd22823a1",
   "metadata": {},
   "outputs": [
    {
     "ename": "KeyError",
     "evalue": "88",
     "output_type": "error",
     "traceback": [
      "\u001b[0;31m---------------------------------------------------------------------------\u001b[0m",
      "\u001b[0;31mKeyError\u001b[0m                                  Traceback (most recent call last)",
      "Cell \u001b[0;32mIn[24], line 1\u001b[0m\n\u001b[0;32m----> 1\u001b[0m my_set\u001b[38;5;241m.\u001b[39mremove(\u001b[38;5;241m88\u001b[39m)\n",
      "\u001b[0;31mKeyError\u001b[0m: 88"
     ]
    }
   ],
   "source": [
    "my_set.remove(88)"
   ]
  },
  {
   "cell_type": "code",
   "execution_count": 23,
   "id": "b80acb0f-2e20-4c64-b1b5-5feabbb9c677",
   "metadata": {},
   "outputs": [
    {
     "data": {
      "text/plain": [
       "{1, 2, 3, 4, 5, 6}"
      ]
     },
     "execution_count": 23,
     "metadata": {},
     "output_type": "execute_result"
    }
   ],
   "source": [
    "my_set"
   ]
  },
  {
   "cell_type": "code",
   "execution_count": 25,
   "id": "6bffbbf8-a70a-4acd-960c-2a3e2577068b",
   "metadata": {},
   "outputs": [
    {
     "data": {
      "text/plain": [
       "{2, 3, 4, 5, 6}"
      ]
     },
     "execution_count": 25,
     "metadata": {},
     "output_type": "execute_result"
    }
   ],
   "source": [
    "# Pop - pop from start \n",
    "my_set.pop()\n",
    "my_set"
   ]
  },
  {
   "cell_type": "code",
   "execution_count": 26,
   "id": "5065c0a5-4cd6-4448-acdc-99166665d8b9",
   "metadata": {},
   "outputs": [
    {
     "data": {
      "text/plain": [
       "set()"
      ]
     },
     "execution_count": 26,
     "metadata": {},
     "output_type": "execute_result"
    }
   ],
   "source": [
    "#Clear \n",
    "\n",
    "my_set.clear()\n",
    "my_set"
   ]
  },
  {
   "cell_type": "markdown",
   "id": "c5499c14-795a-4857-b1af-dac61666e402",
   "metadata": {},
   "source": [
    "## Python Sets Operations "
   ]
  },
  {
   "cell_type": "markdown",
   "id": "5dd13da0-0fbe-499e-a5e0-f8c749371acb",
   "metadata": {},
   "source": [
    "##### UNION"
   ]
  },
  {
   "cell_type": "code",
   "execution_count": 27,
   "id": "162605ca-d78e-4b0d-b552-6d9eb3a3f467",
   "metadata": {},
   "outputs": [
    {
     "name": "stdout",
     "output_type": "stream",
     "text": [
      "{1, 2, 3, 4, 5, 6, 7, 8}\n"
     ]
    }
   ],
   "source": [
    "A = {1,2,3,4,5}\n",
    "B = {4,5,6,7,8}\n",
    "\n",
    "print(A | B)"
   ]
  },
  {
   "cell_type": "code",
   "execution_count": 29,
   "id": "893ac0ca-9f94-4d98-a8ec-84cd4ffa552c",
   "metadata": {},
   "outputs": [
    {
     "data": {
      "text/plain": [
       "{1, 2, 3, 4, 5, 6, 7, 8}"
      ]
     },
     "execution_count": 29,
     "metadata": {},
     "output_type": "execute_result"
    }
   ],
   "source": [
    "A.union(B)"
   ]
  },
  {
   "cell_type": "code",
   "execution_count": 30,
   "id": "b75a2178-05b1-462e-9286-810845facd39",
   "metadata": {},
   "outputs": [
    {
     "data": {
      "text/plain": [
       "{1, 2, 3, 4, 5, 6, 7, 8}"
      ]
     },
     "execution_count": 30,
     "metadata": {},
     "output_type": "execute_result"
    }
   ],
   "source": [
    "B.union(A)"
   ]
  },
  {
   "cell_type": "markdown",
   "id": "d1fc4b20-8ea8-43d9-a847-8c09d99593c2",
   "metadata": {},
   "source": [
    "#### INTERSECTION"
   ]
  },
  {
   "cell_type": "code",
   "execution_count": 34,
   "id": "3c10a4c5-5bb1-4b02-8f9d-d87679d5b70f",
   "metadata": {},
   "outputs": [
    {
     "data": {
      "text/plain": [
       "{4, 5}"
      ]
     },
     "execution_count": 34,
     "metadata": {},
     "output_type": "execute_result"
    }
   ],
   "source": [
    "A = {1,2,3,4,5}\n",
    "B = {4,5,6,7,8}\n",
    "\n",
    "#print(A & B)\n",
    "#A.intersection(B)\n",
    "B.intersection(A)"
   ]
  },
  {
   "cell_type": "markdown",
   "id": "4f006e96-069f-4822-9a2c-f9742ef43a98",
   "metadata": {},
   "source": [
    "#### DIFFERENCE"
   ]
  },
  {
   "cell_type": "code",
   "execution_count": 39,
   "id": "5462f12f-cba1-406d-a35d-ed310d3943ff",
   "metadata": {},
   "outputs": [
    {
     "data": {
      "text/plain": [
       "{6, 7, 8}"
      ]
     },
     "execution_count": 39,
     "metadata": {},
     "output_type": "execute_result"
    }
   ],
   "source": [
    "A = {1,2,3,4,5}\n",
    "B = {4,5,6,7,8}\n",
    "\n",
    "#print(A - B)\n",
    "A.difference(B)\n",
    "#print(B - A)\n",
    "B.difference(A)"
   ]
  },
  {
   "cell_type": "markdown",
   "id": "e8c0f3e1-c830-4cea-be14-7fa737b0670f",
   "metadata": {},
   "source": [
    "#### SYMMETRIC DIFFERENCE "
   ]
  },
  {
   "cell_type": "code",
   "execution_count": 41,
   "id": "7dd805d6-9817-46b4-aec7-158c6aff9031",
   "metadata": {},
   "outputs": [
    {
     "name": "stdout",
     "output_type": "stream",
     "text": [
      "{1, 2, 3, 6, 7, 8}\n"
     ]
    }
   ],
   "source": [
    "A = {1,2,3,4,5}\n",
    "B = {4,5,6,7,8}\n",
    "\n",
    "#print(A ^ B)\n",
    "print(B ^ A)"
   ]
  },
  {
   "cell_type": "markdown",
   "id": "5e895375-8c90-4609-ae51-d4401014c35f",
   "metadata": {},
   "source": [
    "#### ITTERATION "
   ]
  },
  {
   "cell_type": "code",
   "execution_count": 43,
   "id": "179893e5-e83c-40f1-b8db-f12b59d26ff2",
   "metadata": {},
   "outputs": [
    {
     "name": "stdout",
     "output_type": "stream",
     "text": [
      "a e l p "
     ]
    }
   ],
   "source": [
    "for letter in set(\"apple\"):\n",
    "    print(letter, end = ' ')"
   ]
  },
  {
   "cell_type": "markdown",
   "id": "2eb6a4e5-4ab8-415f-adeb-e0a78d2a3fee",
   "metadata": {},
   "source": [
    "#### ASSIGNMENTS "
   ]
  },
  {
   "cell_type": "code",
   "execution_count": 44,
   "id": "107874ba-a718-48aa-a2e1-f44ca16fbb17",
   "metadata": {},
   "outputs": [
    {
     "name": "stdout",
     "output_type": "stream",
     "text": [
      "{1, 2, 3}\n"
     ]
    }
   ],
   "source": [
    "# Difference Update \n",
    "\n",
    "A = {1,2,3,4,5}\n",
    "B = {4,5,6,7,8}\n",
    "A.difference_update(B)\n",
    "print(A)"
   ]
  },
  {
   "cell_type": "code",
   "execution_count": 45,
   "id": "e2fc3213-8618-4ae5-9b99-205a5fca9cbd",
   "metadata": {},
   "outputs": [
    {
     "name": "stdout",
     "output_type": "stream",
     "text": [
      "{1, 2, 3, 6, 7, 8}\n"
     ]
    }
   ],
   "source": [
    "# Symmetric Difference Update \n",
    "\n",
    "A = {1,2,3,4,5}\n",
    "B = {4,5,6,7,8}\n",
    "A.symmetric_difference_update(B)\n",
    "print(A)"
   ]
  },
  {
   "cell_type": "code",
   "execution_count": 46,
   "id": "09ce0343-174e-4865-8eb5-85dc49190af1",
   "metadata": {},
   "outputs": [
    {
     "name": "stdout",
     "output_type": "stream",
     "text": [
      "{4, 5}\n"
     ]
    }
   ],
   "source": [
    "# Intersection Update \n",
    "\n",
    "A = {1,2,3,4,5}\n",
    "B = {4,5,6,7,8}\n",
    "A.intersection_update(B)\n",
    "print(A)"
   ]
  },
  {
   "cell_type": "code",
   "execution_count": 52,
   "id": "7e927670-9d70-4e00-8b3f-feb5b994d6c8",
   "metadata": {},
   "outputs": [
    {
     "name": "stdout",
     "output_type": "stream",
     "text": [
      "False\n"
     ]
    }
   ],
   "source": [
    "# isDisjoint\n",
    "\n",
    "A = {1,2,3,4,5}\n",
    "B = {4,5}\n",
    "print(A.isdisjoint(B))"
   ]
  },
  {
   "cell_type": "code",
   "execution_count": 51,
   "id": "6984d36b-e236-4726-92dc-7bb0db817b8f",
   "metadata": {},
   "outputs": [
    {
     "name": "stdout",
     "output_type": "stream",
     "text": [
      "True\n"
     ]
    }
   ],
   "source": [
    "# isSubset\n",
    "\n",
    "A = {1,2,3,4,5}\n",
    "B = {4,5}\n",
    "print(B.issubset(A))"
   ]
  },
  {
   "cell_type": "code",
   "execution_count": 53,
   "id": "c5a5b5fe-6636-47e2-84b6-5a92eaa74d18",
   "metadata": {},
   "outputs": [
    {
     "name": "stdout",
     "output_type": "stream",
     "text": [
      "frozenset({1, 2, 3, 4, 5, 6})\n"
     ]
    }
   ],
   "source": [
    "# a frozenset\n",
    "\n",
    "a = frozenset([1,2,3,4,5,6])\n",
    "print(a)"
   ]
  },
  {
   "cell_type": "code",
   "execution_count": null,
   "id": "d6c8b74d-62df-43a7-a09b-70d587960b9e",
   "metadata": {},
   "outputs": [],
   "source": []
  }
 ],
 "metadata": {
  "kernelspec": {
   "display_name": "Python 3 (ipykernel)",
   "language": "python",
   "name": "python3"
  },
  "language_info": {
   "codemirror_mode": {
    "name": "ipython",
    "version": 3
   },
   "file_extension": ".py",
   "mimetype": "text/x-python",
   "name": "python",
   "nbconvert_exporter": "python",
   "pygments_lexer": "ipython3",
   "version": "3.11.7"
  }
 },
 "nbformat": 4,
 "nbformat_minor": 5
}
