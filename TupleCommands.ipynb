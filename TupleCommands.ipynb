{
 "cells": [
  {
   "cell_type": "markdown",
   "id": "c47add53-5fb3-4263-91aa-e0ff62df0ab6",
   "metadata": {},
   "source": [
    "### Create Tuple"
   ]
  },
  {
   "cell_type": "code",
   "execution_count": 6,
   "id": "4eb1855a-d2db-43b4-8018-b680e166219e",
   "metadata": {},
   "outputs": [
    {
     "data": {
      "text/plain": [
       "tuple"
      ]
     },
     "execution_count": 6,
     "metadata": {},
     "output_type": "execute_result"
    }
   ],
   "source": [
    "# Way 1 \n",
    "tup1 = ()\n",
    "type(tup1)\n",
    "\n",
    "# Way 2\n",
    "tup2 = tuple()\n",
    "type(tup2)\n",
    "\n",
    "# Way 3\n",
    "tup3 = 1,2,3,4,5,6,7\n",
    "type(tup3)"
   ]
  },
  {
   "cell_type": "markdown",
   "id": "6ad02235-453e-4a80-9340-41409ff1ad19",
   "metadata": {},
   "source": [
    "### Types Of Tuples"
   ]
  },
  {
   "cell_type": "code",
   "execution_count": 18,
   "id": "14104511-237a-4cd6-9dd0-605ed2180d9b",
   "metadata": {},
   "outputs": [
    {
     "data": {
      "text/plain": [
       "'H'"
      ]
     },
     "execution_count": 18,
     "metadata": {},
     "output_type": "execute_result"
    }
   ],
   "source": [
    "# a tuple with single data item\n",
    "tup1 = (99,)\n",
    "\n",
    "# a tuple of strings\n",
    "tup2 = (\"Hey\", \"Rock\", \"Star\")\n",
    "\n",
    "# a tuple of strings and list\n",
    "tup3 = (\"Hey\", [1,3,7,9])\n",
    "tup3[1][2]\n",
    "tup3[1][1]=2\n",
    "tup3 # This can be modify as Lists are mutable\n",
    "# tup3[0]=\"HI!\" ### THis cant be done as tuples are immutable - \"TypeError: 'tuple' object does not support item assignment\"\n",
    "\n",
    "# a tuple of int, float, strings\n",
    "tup4 = (12, 34.12, \"Hello Man!\")\n",
    "\n",
    "# a tuple inside another tuple\n",
    "# Nested Tuple\n",
    "tup5 = ((2,3,4),(1,2,\"Hey!\", [23,35,66]))\n",
    "tup5[1][3][2] = 77\n",
    "tup5\n",
    "tup5[1][2][0]\n"
   ]
  },
  {
   "cell_type": "markdown",
   "id": "f01c5bc8-9eb3-49df-a7d8-2e77edcb021c",
   "metadata": {},
   "source": [
    "### Create A Tuple From SET"
   ]
  },
  {
   "cell_type": "code",
   "execution_count": 19,
   "id": "0cfa1294-9fed-4dab-a223-3cef918ea647",
   "metadata": {},
   "outputs": [
    {
     "data": {
      "text/plain": [
       "(1, 2, 3, 4, 5, 6, 7, 8, 9)"
      ]
     },
     "execution_count": 19,
     "metadata": {},
     "output_type": "execute_result"
    }
   ],
   "source": [
    "py_tuple = tuple({1,2,3,4,4,4,4,5,6,7,7,7,8,9,9,1,1,2,3,4})\n",
    "py_tuple"
   ]
  },
  {
   "cell_type": "markdown",
   "id": "44771a69-9829-47a0-9f2e-7960261e16c0",
   "metadata": {},
   "source": [
    "### Create A Tuple From LIST "
   ]
  },
  {
   "cell_type": "code",
   "execution_count": 21,
   "id": "1c6ffc63-9b90-4fe8-87c5-fa7305ed412d",
   "metadata": {},
   "outputs": [
    {
     "data": {
      "text/plain": [
       "(1, 2, 3, 4, 5)"
      ]
     },
     "execution_count": 21,
     "metadata": {},
     "output_type": "execute_result"
    }
   ],
   "source": [
    "py_list = [1,2,3,4,5]\n",
    "py_tuple = tuple(py_list)\n",
    "py_tuple"
   ]
  },
  {
   "cell_type": "markdown",
   "id": "55dcccb0-fb7c-4d53-aa12-5da0ea91f73e",
   "metadata": {},
   "source": [
    "# EXCEPTION HANDLING : TRY  - EXCEPT Exception"
   ]
  },
  {
   "cell_type": "code",
   "execution_count": 28,
   "id": "f3f091f9-78ce-4329-97a5-3457cb3478ec",
   "metadata": {},
   "outputs": [
    {
     "name": "stdout",
     "output_type": "stream",
     "text": [
      "List Append Error:  list.append() takes exactly one argument (2 given)\n",
      "Instead of Append use Extend :  None\n",
      "Updated List:  [1, 2, 3, 4, 5, 6]\n"
     ]
    }
   ],
   "source": [
    "# Example with modifying the tuple by adding values in it\n",
    "py_list = [1,2,3,4]\n",
    "\n",
    "try:\n",
    "    print(py_list.append(5,6))\n",
    "except Exception as ex:\n",
    "    print(\"List Append Error: \", ex)\n",
    "    print(\"Instead of Append use Extend : \", py_list.extend([5,6]))\n",
    "    print(\"Updated List: \",py_list)\n"
   ]
  },
  {
   "cell_type": "code",
   "execution_count": 31,
   "id": "978368f6-476f-44c1-9e4d-218936f50767",
   "metadata": {},
   "outputs": [
    {
     "name": "stdout",
     "output_type": "stream",
     "text": [
      "OP(del py_tuple[0]) Error:  'tuple' object doesn't support item deletion\n"
     ]
    },
    {
     "ename": "NameError",
     "evalue": "name 'py_tuple' is not defined",
     "output_type": "error",
     "traceback": [
      "\u001b[0;31m---------------------------------------------------------------------------\u001b[0m",
      "\u001b[0;31mTypeError\u001b[0m                                 Traceback (most recent call last)",
      "Cell \u001b[0;32mIn[31], line 6\u001b[0m\n\u001b[1;32m      5\u001b[0m \u001b[38;5;28;01mtry\u001b[39;00m:\n\u001b[0;32m----> 6\u001b[0m     \u001b[38;5;28;01mdel\u001b[39;00m py_tuple[\u001b[38;5;241m0\u001b[39m]\n\u001b[1;32m      7\u001b[0m \u001b[38;5;28;01mexcept\u001b[39;00m \u001b[38;5;167;01mException\u001b[39;00m \u001b[38;5;28;01mas\u001b[39;00m ex:\n",
      "\u001b[0;31mTypeError\u001b[0m: 'tuple' object doesn't support item deletion",
      "\nDuring handling of the above exception, another exception occurred:\n",
      "\u001b[0;31mNameError\u001b[0m                                 Traceback (most recent call last)",
      "Cell \u001b[0;32mIn[31], line 10\u001b[0m\n\u001b[1;32m      8\u001b[0m \u001b[38;5;28mprint\u001b[39m(\u001b[38;5;124m\"\u001b[39m\u001b[38;5;124mOP(del py_tuple[0]) Error: \u001b[39m\u001b[38;5;124m\"\u001b[39m, ex)\n\u001b[1;32m      9\u001b[0m \u001b[38;5;28;01mdel\u001b[39;00m py_tuple\n\u001b[0;32m---> 10\u001b[0m \u001b[38;5;28mprint\u001b[39m(py_tuple)\n",
      "\u001b[0;31mNameError\u001b[0m: name 'py_tuple' is not defined"
     ]
    }
   ],
   "source": [
    "# Example of Deleting Whole Tuple Vs particular Value of Tuple\n",
    "\n",
    "py_tuple = (\"a\", \"b\", \"c\", \"d\", \"e\")\n",
    "\n",
    "try:\n",
    "    del py_tuple[0]\n",
    "except Exception as ex:\n",
    "    print(\"OP(del py_tuple[0]) Error: \", ex)\n",
    "    del py_tuple\n",
    "    print(py_tuple)"
   ]
  },
  {
   "cell_type": "code",
   "execution_count": 32,
   "id": "56eb6173-b43e-411c-a48c-e3f18755d173",
   "metadata": {},
   "outputs": [
    {
     "name": "stdout",
     "output_type": "stream",
     "text": [
      "print(py_tuple) Error:  name 'py_tuple' is not defined\n"
     ]
    }
   ],
   "source": [
    "# Deleting Tuple\n",
    "\n",
    "py_tuple = (\"a\", \"b\", \"c\", \"d\", \"e\")\n",
    "del py_tuple\n",
    "try:\n",
    "    print(py_tuple)\n",
    "except Exception as ex:\n",
    "    print(\"print(py_tuple) Error: \",ex)"
   ]
  },
  {
   "cell_type": "code",
   "execution_count": 33,
   "id": "76288241-6f7e-46ad-a8ed-782209b24806",
   "metadata": {},
   "outputs": [
    {
     "ename": "TypeError",
     "evalue": "'tuple' object doesn't support item deletion",
     "output_type": "error",
     "traceback": [
      "\u001b[0;31m---------------------------------------------------------------------------\u001b[0m",
      "\u001b[0;31mTypeError\u001b[0m                                 Traceback (most recent call last)",
      "Cell \u001b[0;32mIn[33], line 4\u001b[0m\n\u001b[1;32m      1\u001b[0m \u001b[38;5;66;03m# Deleting Tuple\u001b[39;00m\n\u001b[1;32m      3\u001b[0m py_tuple \u001b[38;5;241m=\u001b[39m (\u001b[38;5;124m\"\u001b[39m\u001b[38;5;124ma\u001b[39m\u001b[38;5;124m\"\u001b[39m, \u001b[38;5;124m\"\u001b[39m\u001b[38;5;124mb\u001b[39m\u001b[38;5;124m\"\u001b[39m, \u001b[38;5;124m\"\u001b[39m\u001b[38;5;124mc\u001b[39m\u001b[38;5;124m\"\u001b[39m, \u001b[38;5;124m\"\u001b[39m\u001b[38;5;124md\u001b[39m\u001b[38;5;124m\"\u001b[39m, \u001b[38;5;124m\"\u001b[39m\u001b[38;5;124me\u001b[39m\u001b[38;5;124m\"\u001b[39m)\n\u001b[0;32m----> 4\u001b[0m \u001b[38;5;28;01mdel\u001b[39;00m py_tuple[\u001b[38;5;241m0\u001b[39m]\n\u001b[1;32m      5\u001b[0m \u001b[38;5;28;01mtry\u001b[39;00m:\n\u001b[1;32m      6\u001b[0m     \u001b[38;5;28mprint\u001b[39m(py_tuple)\n",
      "\u001b[0;31mTypeError\u001b[0m: 'tuple' object doesn't support item deletion"
     ]
    }
   ],
   "source": [
    "# Deleting Tuple\n",
    "\n",
    "py_tuple = (\"a\", \"b\", \"c\", \"d\", \"e\")\n",
    "del py_tuple[0]\n",
    "try:\n",
    "    print(py_tuple)\n",
    "except Exception as ex:\n",
    "    print(\"print(py_tuple) Error: \",ex)"
   ]
  },
  {
   "cell_type": "markdown",
   "id": "014c7fcd-4342-4eed-9a06-05a717cce766",
   "metadata": {},
   "source": [
    "## TUPLE METHODS"
   ]
  },
  {
   "cell_type": "code",
   "execution_count": 38,
   "id": "99df841b-3638-40d7-967d-64c4a286cb09",
   "metadata": {},
   "outputs": [
    {
     "name": "stdout",
     "output_type": "stream",
     "text": [
      "2\n",
      "1\n"
     ]
    }
   ],
   "source": [
    "py_tuple = (\"a\", \"b\", \"c\", \"d\", \"e\",\"c\")\n",
    "\n",
    "# COUNT\n",
    "print(py_tuple.count(\"c\"))\n",
    "\n",
    "# Index\n",
    "print(py_tuple.index(\"b\"))"
   ]
  },
  {
   "cell_type": "markdown",
   "id": "4acc4dec-143b-4a1c-bb45-a8f854df2a04",
   "metadata": {},
   "source": [
    "### Iterating a Tuple"
   ]
  },
  {
   "cell_type": "code",
   "execution_count": 39,
   "id": "74b2d613-c4b3-45e5-86e9-1c49b31f5827",
   "metadata": {},
   "outputs": [
    {
     "name": "stdout",
     "output_type": "stream",
     "text": [
      "iPhone\n",
      "Samsung\n",
      "Nokia\n"
     ]
    }
   ],
   "source": [
    "phones = (\"iPhone\", \"Samsung\" , \"Nokia\")\n",
    "\n",
    "for phone in phones:\n",
    "    print(phone)"
   ]
  },
  {
   "cell_type": "code",
   "execution_count": null,
   "id": "88b0364b-4270-4e79-9f06-4f028ee7861c",
   "metadata": {},
   "outputs": [],
   "source": []
  }
 ],
 "metadata": {
  "kernelspec": {
   "display_name": "Python 3 (ipykernel)",
   "language": "python",
   "name": "python3"
  },
  "language_info": {
   "codemirror_mode": {
    "name": "ipython",
    "version": 3
   },
   "file_extension": ".py",
   "mimetype": "text/x-python",
   "name": "python",
   "nbconvert_exporter": "python",
   "pygments_lexer": "ipython3",
   "version": "3.11.7"
  }
 },
 "nbformat": 4,
 "nbformat_minor": 5
}
